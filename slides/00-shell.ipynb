{
 "metadata": {
  "celltoolbar": "Slideshow",
  "name": "",
  "signature": "sha256:5a6541f7e5724e21241a278d896aec3d65d8ab20ccd851f6b23b398b6743f4dc"
 },
 "nbformat": 3,
 "nbformat_minor": 0,
 "worksheets": [
  {
   "cells": [
    {
     "cell_type": "markdown",
     "metadata": {
      "slideshow": {
       "slide_type": "slide"
      }
     },
     "source": [
      "# CLI until it CLIcks\n",
      "\n",
      "## Ivan Zimine\n",
      "## 18 June, 2014\n",
      "\n",
      "![](img/logo-pycon-RGB-2014.svg)"
     ]
    },
    {
     "cell_type": "markdown",
     "metadata": {
      "slideshow": {
       "slide_type": "slide"
      }
     },
     "source": [
      "## Starting some \"fancy_pro\"\n",
      "\n",
      "```\n",
      "$ sudo apt-get install postgresql\n",
      "$ mkvirtualenv fancy_proj\n",
      "$ pip install -r requirements.txt\n",
      "$ cd ~/dev && mkdir fancy_proj\n",
      "$ git init\n",
      "```"
     ]
    },
    {
     "cell_type": "markdown",
     "metadata": {
      "slideshow": {
       "slide_type": "slide"
      }
     },
     "source": [
      "## Plan\n",
      "\n",
      "1. Shut up and **shell**\n",
      "    - commands, options, arguments\n",
      "    - environment and scripting\n",
      "2. Shut up and **git**\n",
      "    - init, add, commit, push, pull, branch, merge\n",
      "3. Shut up and **mkdocs**\n",
      "    - sphinx (reStructuredText)\n",
      "    - mkdocs (markdown)"
     ]
    },
    {
     "cell_type": "markdown",
     "metadata": {
      "slideshow": {
       "slide_type": "slide"
      }
     },
     "source": [
      "# Terminology\n",
      "\n",
      "> A terminal is at the end of an electric wire,\n",
      "\n",
      "> a shell is the home of a turtle, \n",
      "\n",
      "> tty is a strange abbreviation, and a console is a kind of cabinet.\n",
      "\n",
      "* terminal = text input/output environment\n",
      "* console = physical terminal\n",
      "* shell = command line interpreter\n",
      "\n",
      "([source](http://unix.stackexchange.com/questions/4126/what-is-the-exact-difference-between-a-terminal-a-shell-a-tty-and-a-con/))"
     ]
    },
    {
     "cell_type": "markdown",
     "metadata": {
      "slideshow": {
       "slide_type": "slide"
      }
     },
     "source": [
      "# Terminology\n",
      "\n",
      "![](img/terminal_whoami.png)\n",
      "\n",
      "`Terminal.app` (terminal emulator) running `bash` (shell).\n"
     ]
    },
    {
     "cell_type": "code",
     "collapsed": false,
     "input": [
      "%%bash\n",
      "whoami"
     ],
     "language": "python",
     "metadata": {
      "slideshow": {
       "slide_type": "subslide"
      }
     },
     "outputs": [
      {
       "output_type": "stream",
       "stream": "stdout",
       "text": [
        "ivan\n"
       ]
      }
     ],
     "prompt_number": 2
    },
    {
     "cell_type": "markdown",
     "metadata": {
      "slideshow": {
       "slide_type": "notes"
      }
     },
     "source": [
      "# Shell\n",
      "## Files and Directories\n",
      "## Creating and deleting files\n",
      "## globbing\n",
      "## pipes and redirection\n",
      "## find, zip, tar, man\n",
      "## shell variables, env\n",
      "## .bashrc\n",
      "## scripting\n",
      "## ssh and rsync\n",
      "\n",
      "# Git\n",
      "\n",
      "# docs\n",
      "## markdown\n",
      "## Makefile"
     ]
    },
    {
     "cell_type": "code",
     "collapsed": false,
     "input": [],
     "language": "python",
     "metadata": {},
     "outputs": []
    }
   ],
   "metadata": {}
  }
 ]
}