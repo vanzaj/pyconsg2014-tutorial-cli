{
 "metadata": {
  "celltoolbar": "Slideshow",
  "name": "",
  "signature": "sha256:1211d7343f0e23330a2c36cd195b4e5b72e76725ea6a1de51bb03c954dc2bfdd"
 },
 "nbformat": 3,
 "nbformat_minor": 0,
 "worksheets": [
  {
   "cells": [
    {
     "cell_type": "markdown",
     "metadata": {
      "internals": {
       "slide_helper": "subslide_end",
       "slide_type": "subslide"
      },
      "slide_helper": "slide_end",
      "slideshow": {
       "slide_type": "slide"
      }
     },
     "source": [
      "# CLI until it CLIcks\n",
      "\n",
      "## Ivan Zimine\n",
      "## 18 June, 2014\n",
      "\n",
      "![](img/logo-pycon-RGB-2014.svg)"
     ]
    },
    {
     "cell_type": "markdown",
     "metadata": {
      "slideshow": {
       "slide_type": "slide"
      }
     },
     "source": [
      "## Plan\n",
      "\n",
      "1. Shut up and **shell**\n",
      "    - commands, options, arguments\n",
      "    - environment and scripting\n",
      "\n",
      "1. Shut up and **mkdocs**\n",
      "    - mkdocs (markdown)\n",
      "    - sphinx (reStructuredText)\n",
      "\n",
      "1. Shut up and **git**\n",
      "    - init, add, commit, push, pull, branch, merge\n",
      "    \n",
      "(Help with setup: [lpthw cli](http://learnpythonthehardway.org/book/appendix-a-cli/ex1.html) or [soft carpentry](http://software-carpentry.org/v5/setup.html))"
     ]
    },
    {
     "cell_type": "markdown",
     "metadata": {
      "slideshow": {
       "slide_type": "slide"
      }
     },
     "source": [
      "![](img/joey_devilla_and_zed_shaw.jpg)"
     ]
    },
    {
     "cell_type": "markdown",
     "metadata": {
      "slideshow": {
       "slide_type": "slide"
      }
     },
     "source": [
      "![](img/learn-python-hard-way.png)"
     ]
    },
    {
     "cell_type": "markdown",
     "metadata": {
      "slideshow": {
       "slide_type": "slide"
      }
     },
     "source": [
      "![](img/learn-cli-hard-way.png)"
     ]
    },
    {
     "cell_type": "markdown",
     "metadata": {
      "internals": {
       "slide_helper": "subslide_end",
       "slide_type": "subslide"
      },
      "slide_helper": "slide_end",
      "slideshow": {
       "slide_type": "slide"
      }
     },
     "source": [
      "![](img/wp-in-the-beginning.png)"
     ]
    },
    {
     "cell_type": "markdown",
     "metadata": {
      "internals": {
       "slide_helper": "subslide_end",
       "slide_type": "subslide"
      },
      "slide_helper": "slide_end",
      "slideshow": {
       "slide_type": "slide"
      }
     },
     "source": [
      "<center><h1>Shell</h1></center>"
     ]
    },
    {
     "cell_type": "markdown",
     "metadata": {
      "internals": {
       "slide_helper": "subslide_end",
       "slide_type": "subslide"
      },
      "slide_helper": "slide_end",
      "slideshow": {
       "slide_type": "slide"
      }
     },
     "source": [
      "## Starting a new \"fancy_pro\"\n",
      "\n",
      "Typical installation instructions from some project documentation or a tutorial:\n",
      "\n",
      "```\n",
      "$ sudo apt-get install postgresql\n",
      "$ mkvirtualenv fancy_proj\n",
      "$ pip install -r requirements.txt\n",
      "$ cd ~/dev && mkdir fancy_proj\n",
      "$ git init\n",
      "```"
     ]
    },
    {
     "cell_type": "markdown",
     "metadata": {
      "internals": {
       "slide_helper": "subslide_end",
       "slide_type": "subslide"
      },
      "slide_helper": "slide_end",
      "slideshow": {
       "slide_type": "slide"
      }
     },
     "source": [
      "## Terminal, shell, console,...\n",
      "\n",
      "[unix.stackexchange](http://unix.stackexchange.com/questions/4126/what-is-the-exact-difference-between-a-terminal-a-shell-a-tty-and-a-con/)\n",
      "\n",
      "> A terminal is at the end of an electric wire,\n",
      "> a shell is the home of a turtle, \n",
      "> tty is a strange abbreviation, and a console is a kind of cabinet.\n",
      "\n",
      "* terminal == text input/output environment\n",
      "* console == physical terminal\n",
      "* shell == command line interpreter (cli)\n",
      "\n",
      "A shell is a **program** whose primary purpose is to read commands and run other programs.\n"
     ]
    },
    {
     "cell_type": "markdown",
     "metadata": {
      "internals": {
       "slide_helper": "subslide_end",
       "slide_type": "subslide"
      },
      "slide_helper": "slide_end",
      "slideshow": {
       "slide_type": "slide"
      }
     },
     "source": [
      "## Terminal, shell, console,...\n",
      "\n",
      "![](img/terminal_whoami.png)\n",
      "\n",
      "`Terminal.app` (terminal emulator) running `bash` (shell).\n"
     ]
    },
    {
     "cell_type": "markdown",
     "metadata": {
      "internals": {
       "slide_helper": "subslide_end",
       "slide_type": "subslide"
      },
      "slide_helper": "slide_end",
      "slideshow": {
       "slide_type": "slide"
      }
     },
     "source": [
      "## Terminal, shell, console,...\n",
      "\n",
      "![](img/terminal_whoami_arrows.png)\n"
     ]
    },
    {
     "cell_type": "markdown",
     "metadata": {
      "internals": {
       "slide_helper": "subslide_end",
       "slide_type": "subslide"
      },
      "slide_helper": "slide_end",
      "slideshow": {
       "slide_type": "slide"
      }
     },
     "source": [
      "## velo-love\n",
      "\n",
      "![](img/terminal_velos.png)"
     ]
    },
    {
     "cell_type": "markdown",
     "metadata": {
      "slideshow": {
       "slide_type": "slide"
      }
     },
     "source": [
      "[try.github.io]('https://try.github.io')\n",
      "\n",
      "![](img/try-git.png)"
     ]
    },
    {
     "cell_type": "markdown",
     "metadata": {
      "internals": {
       "slide_type": "subslide"
      },
      "slideshow": {
       "slide_type": "slide"
      }
     },
     "source": [
      "# Files and directories"
     ]
    },
    {
     "cell_type": "markdown",
     "metadata": {},
     "source": [
      "Navigating file system:\n",
      "\n",
      "    pwd -- print working directory\n",
      "    ls  -- list (content of current directory) \n",
      "    cd  -- change directory"
     ]
    },
    {
     "cell_type": "code",
     "collapsed": false,
     "input": [
      "cd ~"
     ],
     "language": "python",
     "metadata": {
      "internals": {},
      "slideshow": {
       "slide_type": "-"
      }
     },
     "outputs": [
      {
       "output_type": "stream",
       "stream": "stdout",
       "text": [
        "/Users/ivan\n"
       ]
      }
     ],
     "prompt_number": 1
    },
    {
     "cell_type": "code",
     "collapsed": false,
     "input": [
      "ls"
     ],
     "language": "python",
     "metadata": {
      "internals": {},
      "slideshow": {
       "slide_type": "-"
      }
     },
     "outputs": [
      {
       "output_type": "stream",
       "stream": "stdout",
       "text": [
        "\u001b[34mApplications\u001b[m\u001b[m/ \u001b[34mDesktop\u001b[m\u001b[m/      \u001b[34mDownloads\u001b[m\u001b[m/    \u001b[34mMovies\u001b[m\u001b[m/       \u001b[34mPictures\u001b[m\u001b[m/     \u001b[34mbin\u001b[m\u001b[m/          \u001b[34mtmp\u001b[m\u001b[m/\r\n",
        "\u001b[34mCloud\u001b[m\u001b[m/        \u001b[34mDocuments\u001b[m\u001b[m/    \u001b[34mLibrary\u001b[m\u001b[m/      \u001b[34mMusic\u001b[m\u001b[m/        \u001b[34mPublic\u001b[m\u001b[m/       \u001b[34mdev\u001b[m\u001b[m/\r\n"
       ]
      }
     ],
     "prompt_number": 2
    },
    {
     "cell_type": "markdown",
     "metadata": {
      "internals": {},
      "slideshow": {
       "slide_type": "slide"
      }
     },
     "source": [
      "# Files and directories"
     ]
    },
    {
     "cell_type": "code",
     "collapsed": false,
     "input": [
      "cd tmp/pyconsg2014-sbox/img/velos/"
     ],
     "language": "python",
     "metadata": {
      "internals": {},
      "slideshow": {
       "slide_type": "-"
      }
     },
     "outputs": [
      {
       "output_type": "stream",
       "stream": "stdout",
       "text": [
        "/Users/ivan/tmp/pyconsg2014-sbox/img/velos\n"
       ]
      }
     ],
     "prompt_number": 9
    },
    {
     "cell_type": "code",
     "collapsed": false,
     "input": [
      "ls"
     ],
     "language": "python",
     "metadata": {
      "internals": {
       "slide_helper": "subslide_end"
      },
      "slide_helper": "slide_end",
      "slideshow": {
       "slide_type": "-"
      }
     },
     "outputs": [
      {
       "output_type": "stream",
       "stream": "stdout",
       "text": [
        "amster1.jpg     cambridge1.jpg  index.html      tokyo_oam1.jpg\r\n",
        "asakusa1.jpg    guangzho1.jpg   kobe01.jpg      tokyo_oam2.jpg\r\n",
        "asakusa2.jpg    gva1.jpg        myajima.jpg\r\n"
       ]
      }
     ],
     "prompt_number": 10
    },
    {
     "cell_type": "markdown",
     "metadata": {
      "internals": {
       "slide_type": "subslide"
      },
      "slideshow": {
       "slide_type": "slide"
      }
     },
     "source": [
      "## Command options and arguments\n",
      "\n",
      "`<cmd> [options] [<arguments>]`"
     ]
    },
    {
     "cell_type": "code",
     "collapsed": false,
     "input": [
      "cd /Users/ivan/tmp/pyconsg2014-sbox/img/velos/"
     ],
     "language": "python",
     "metadata": {
      "internals": {},
      "slideshow": {
       "slide_type": "-"
      }
     },
     "outputs": [
      {
       "output_type": "stream",
       "stream": "stdout",
       "text": [
        "/Users/ivan/tmp/pyconsg2014-sbox/img/velos\n"
       ]
      }
     ],
     "prompt_number": 3
    },
    {
     "cell_type": "code",
     "collapsed": false,
     "input": [
      "ls -1"
     ],
     "language": "python",
     "metadata": {
      "internals": {
       "slide_helper": "subslide_end"
      },
      "slide_helper": "slide_end",
      "slideshow": {
       "slide_type": "-"
      }
     },
     "outputs": [
      {
       "output_type": "stream",
       "stream": "stdout",
       "text": [
        "amster1.jpg\r\n",
        "asakusa1.jpg\r\n",
        "asakusa2.jpg\r\n",
        "cambridge1.jpg\r\n",
        "guangzho1.jpg\r\n",
        "gva1.jpg\r\n",
        "index.html\r\n",
        "kobe01.jpg\r\n",
        "myajima.jpg\r\n",
        "tokyo_oam1.jpg\r\n",
        "tokyo_oam2.jpg\r\n"
       ]
      }
     ],
     "prompt_number": 5
    },
    {
     "cell_type": "markdown",
     "metadata": {
      "slideshow": {
       "slide_type": "slide"
      }
     },
     "source": [
      "## Back to Files\n",
      "![](img/term-ls-finder.png)"
     ]
    },
    {
     "cell_type": "markdown",
     "metadata": {
      "internals": {
       "slide_type": "subslide"
      },
      "slideshow": {
       "slide_type": "slide"
      }
     },
     "source": [
      "## More options"
     ]
    },
    {
     "cell_type": "code",
     "collapsed": false,
     "input": [
      "ls -a"
     ],
     "language": "python",
     "metadata": {},
     "outputs": [
      {
       "output_type": "stream",
       "stream": "stdout",
       "text": [
        "\u001b[34m.\u001b[m\u001b[m/              .DS_Store       asakusa1.jpg    cambridge1.jpg  gva1.jpg        kobe01.jpg      tokyo_oam1.jpg\r\n",
        "\u001b[34m..\u001b[m\u001b[m/             amster1.jpg     asakusa2.jpg    guangzho1.jpg   index.html      myajima.jpg     tokyo_oam2.jpg\r\n"
       ]
      }
     ],
     "prompt_number": 7
    },
    {
     "cell_type": "code",
     "collapsed": false,
     "input": [
      "ls -l"
     ],
     "language": "python",
     "metadata": {
      "internals": {
       "slide_helper": "subslide_end"
      },
      "slide_helper": "slide_end",
      "slideshow": {
       "slide_type": "-"
      }
     },
     "outputs": [
      {
       "output_type": "stream",
       "stream": "stdout",
       "text": [
        "total 12384\r\n",
        "-rw-r--r--  1 ivan  staff   844700 Aug 19  2007 amster1.jpg\r\n",
        "-rw-r--r--  1 ivan  staff   882404 Mar  7  2009 asakusa1.jpg\r\n",
        "-rw-r--r--  1 ivan  staff   924487 Mar  7  2009 asakusa2.jpg\r\n",
        "-rw-r--r--  1 ivan  staff   681743 Apr 15  2007 cambridge1.jpg\r\n",
        "-rw-r--r--  1 ivan  staff   717752 Apr 15  2007 guangzho1.jpg\r\n",
        "-rw-r--r--  1 ivan  staff  1060876 Apr 15  2007 gva1.jpg\r\n",
        "-rw-r--r--  1 ivan  staff      498 Jun 15 13:25 index.html\r\n",
        "-rw-r--r--  1 ivan  staff   337280 May  8  2008 kobe01.jpg\r\n",
        "-rw-r--r--  1 ivan  staff   351742 May  6  2008 myajima.jpg\r\n",
        "-rw-r--r--  1 ivan  staff   287279 Aug  2  2008 tokyo_oam1.jpg\r\n",
        "-rw-r--r--  1 ivan  staff   224311 Jul 13  2008 tokyo_oam2.jpg\r\n"
       ]
      }
     ],
     "prompt_number": 8
    },
    {
     "cell_type": "code",
     "collapsed": false,
     "input": [
      "ls -alF"
     ],
     "language": "python",
     "metadata": {
      "slideshow": {
       "slide_type": "slide"
      }
     },
     "outputs": [
      {
       "output_type": "stream",
       "stream": "stdout",
       "text": [
        "total 12400\r\n",
        "drwxr-xr-x  14 ivan  staff      476 Jun 15 13:29 \u001b[34m.\u001b[m\u001b[m/\r\n",
        "drwxr-xr-x   4 ivan  staff      136 Jun 10 20:38 \u001b[34m..\u001b[m\u001b[m/\r\n",
        "-rw-r--r--   1 ivan  staff     6148 Jun 10 19:40 .DS_Store\r\n",
        "-rw-r--r--   1 ivan  staff   844700 Aug 19  2007 amster1.jpg\r\n",
        "-rw-r--r--   1 ivan  staff   882404 Mar  7  2009 asakusa1.jpg\r\n",
        "-rw-r--r--   1 ivan  staff   924487 Mar  7  2009 asakusa2.jpg\r\n",
        "-rw-r--r--   1 ivan  staff   681743 Apr 15  2007 cambridge1.jpg\r\n",
        "-rw-r--r--   1 ivan  staff   717752 Apr 15  2007 guangzho1.jpg\r\n",
        "-rw-r--r--   1 ivan  staff  1060876 Apr 15  2007 gva1.jpg\r\n",
        "-rw-r--r--   1 ivan  staff      498 Jun 15 13:25 index.html\r\n",
        "-rw-r--r--   1 ivan  staff   337280 May  8  2008 kobe01.jpg\r\n",
        "-rw-r--r--   1 ivan  staff   351742 May  6  2008 myajima.jpg\r\n",
        "-rw-r--r--   1 ivan  staff   287279 Aug  2  2008 tokyo_oam1.jpg\r\n",
        "-rw-r--r--   1 ivan  staff   224311 Jul 13  2008 tokyo_oam2.jpg\r\n"
       ]
      }
     ],
     "prompt_number": 9
    },
    {
     "cell_type": "markdown",
     "metadata": {
      "internals": {
       "slide_type": "subslide"
      },
      "slideshow": {
       "slide_type": "slide"
      }
     },
     "source": [
      "## More arguments"
     ]
    },
    {
     "cell_type": "code",
     "collapsed": false,
     "input": [
      "ls -l amster1.jpg"
     ],
     "language": "python",
     "metadata": {
      "internals": {},
      "slideshow": {
       "slide_type": "-"
      }
     },
     "outputs": [
      {
       "output_type": "stream",
       "stream": "stdout",
       "text": [
        "-rw-r--r--  1 ivan  staff  844700 Aug 19  2007 amster1.jpg\r\n"
       ]
      }
     ],
     "prompt_number": 9
    },
    {
     "cell_type": "code",
     "collapsed": false,
     "input": [
      "ls *.jpg"
     ],
     "language": "python",
     "metadata": {
      "internals": {
       "slide_helper": "subslide_end"
      },
      "slide_helper": "slide_end",
      "slideshow": {
       "slide_type": "-"
      }
     },
     "outputs": [
      {
       "output_type": "stream",
       "stream": "stdout",
       "text": [
        "amster1.jpg     asakusa1.jpg    asakusa2.jpg    cambridge1.jpg  guangzho1.jpg   gva1.jpg        kobe01.jpg      myajima.jpg     tokyo_oam1.jpg  tokyo_oam2.jpg\r\n"
       ]
      }
     ],
     "prompt_number": 11
    },
    {
     "cell_type": "markdown",
     "metadata": {
      "internals": {
       "slide_type": "subslide"
      },
      "slideshow": {
       "slide_type": "slide"
      }
     },
     "source": [
      "## Absolute and relative paths"
     ]
    },
    {
     "cell_type": "code",
     "collapsed": false,
     "input": [
      "ls amster1.jpg"
     ],
     "language": "python",
     "metadata": {
      "internals": {},
      "slideshow": {
       "slide_type": "-"
      }
     },
     "outputs": [
      {
       "output_type": "stream",
       "stream": "stdout",
       "text": [
        "amster1.jpg\r\n"
       ]
      }
     ],
     "prompt_number": 12
    },
    {
     "cell_type": "code",
     "collapsed": false,
     "input": [
      "ls /Users/ivan/tmp/pyconsg2014-sbox/img/velos/amster1.jpg"
     ],
     "language": "python",
     "metadata": {
      "internals": {
       "slide_helper": "subslide_end"
      },
      "slide_helper": "slide_end",
      "slideshow": {
       "slide_type": "-"
      }
     },
     "outputs": [
      {
       "output_type": "stream",
       "stream": "stdout",
       "text": [
        "/Users/ivan/tmp/pyconsg2014-sbox/img/velos/amster1.jpg\r\n"
       ]
      }
     ],
     "prompt_number": 13
    },
    {
     "cell_type": "markdown",
     "metadata": {
      "internals": {
       "slide_type": "subslide"
      },
      "slideshow": {
       "slide_type": "slide"
      }
     },
     "source": [
      "## Creating and deleting"
     ]
    },
    {
     "cell_type": "code",
     "collapsed": false,
     "input": [
      "cd ~/tmp"
     ],
     "language": "python",
     "metadata": {
      "internals": {},
      "slideshow": {
       "slide_type": "-"
      }
     },
     "outputs": [
      {
       "output_type": "stream",
       "stream": "stdout",
       "text": [
        "/Users/ivan/tmp\n"
       ]
      }
     ],
     "prompt_number": 14
    },
    {
     "cell_type": "code",
     "collapsed": false,
     "input": [
      "ls"
     ],
     "language": "python",
     "metadata": {
      "internals": {},
      "slideshow": {
       "slide_type": "-"
      }
     },
     "outputs": [
      {
       "output_type": "stream",
       "stream": "stdout",
       "text": [
        "blah.html         \u001b[34mjunk\u001b[m\u001b[m/             \u001b[34mpyconsg2014-sbox\u001b[m\u001b[m/\r\n"
       ]
      }
     ],
     "prompt_number": 15
    },
    {
     "cell_type": "code",
     "collapsed": false,
     "input": [
      "mkdir new-dir"
     ],
     "language": "python",
     "metadata": {
      "internals": {},
      "slideshow": {
       "slide_type": "-"
      }
     },
     "outputs": [],
     "prompt_number": 16
    },
    {
     "cell_type": "code",
     "collapsed": false,
     "input": [
      "rmdir new-dir"
     ],
     "language": "python",
     "metadata": {
      "internals": {
       "slide_helper": "subslide_end"
      },
      "slide_helper": "slide_end",
      "slideshow": {
       "slide_type": "-"
      }
     },
     "outputs": [],
     "prompt_number": 17
    },
    {
     "cell_type": "markdown",
     "metadata": {
      "slideshow": {
       "slide_type": "slide"
      }
     },
     "source": [
      "## Creating and deleting"
     ]
    },
    {
     "cell_type": "code",
     "collapsed": false,
     "input": [
      "! echo \"hello world\" > hello.txt"
     ],
     "language": "python",
     "metadata": {},
     "outputs": [],
     "prompt_number": 39
    },
    {
     "cell_type": "code",
     "collapsed": false,
     "input": [
      "! ls *.txt"
     ],
     "language": "python",
     "metadata": {},
     "outputs": [
      {
       "output_type": "stream",
       "stream": "stdout",
       "text": [
        "hello.txt      tuna-upsum.txt\r\n"
       ]
      }
     ],
     "prompt_number": 40
    },
    {
     "cell_type": "code",
     "collapsed": false,
     "input": [
      "! /bin/rm hello.txt"
     ],
     "language": "python",
     "metadata": {},
     "outputs": [],
     "prompt_number": 41
    },
    {
     "cell_type": "markdown",
     "metadata": {
      "internals": {
       "slide_helper": "subslide_end",
       "slide_type": "subslide"
      },
      "slide_helper": "slide_end",
      "slideshow": {
       "slide_type": "slide"
      }
     },
     "source": [
      "## Command options and arguments (recap)\n",
      "\n",
      "```\n",
      "$ <command> [<options>] [<arguments>]\n",
      "```\n",
      "\n",
      "`<command>` can be a binary executable, a script, a built-in shell command or an alias.\n",
      "\n",
      "Commands so far:\n",
      "\n",
      "* `pwd`  print working directory \n",
      "* `ls [path/to/dest]`  ist files\n",
      "* `cd [path/to/dest]`  change directory\n",
      "* `mkdir <name>`  create new directory\n",
      "* `rmdir <name>`  delete (remove) directory\n",
      "* `rm <name>`  delete file\n",
      "* `echo [args]` write arguments to stdout"
     ]
    },
    {
     "cell_type": "markdown",
     "metadata": {
      "internals": {
       "slide_type": "subslide"
      },
      "slideshow": {
       "slide_type": "slide"
      }
     },
     "source": [
      "## Exercise 1\n",
      "\n",
      "1. Open a terminal\n",
      "1. Try `ls`, `pwd` and `whoami` commands\n",
      "1. Create a directory called `pyconsg`\n",
      "1. `cd` into `pyconsg/` and back out\n",
      "1. find `pyconsg` using GUI tools (Finder, Explorer,...)\n",
      "1. create a file inside `pyconsg/`"
     ]
    },
    {
     "cell_type": "markdown",
     "metadata": {
      "slideshow": {
       "slide_type": "slide"
      }
     },
     "source": [
      "## Help\n",
      "\n",
      "* `man <cmd>` manual (also see [bro](https://news.ycombinator.com/item?id=7121268))\n",
      "* `<cmd> -h | --help`\n",
      "* `<cmd> -v | --version` when asking for help online and getting asked \"what's your version\" in return"
     ]
    },
    {
     "cell_type": "markdown",
     "metadata": {
      "slideshow": {
       "slide_type": "slide"
      }
     },
     "source": [
      "## pipes, redirections, cats, heads and tails"
     ]
    },
    {
     "cell_type": "code",
     "collapsed": false,
     "input": [
      "! echo \"hello world\" > hello.txt"
     ],
     "language": "python",
     "metadata": {},
     "outputs": [],
     "prompt_number": 29
    },
    {
     "cell_type": "code",
     "collapsed": false,
     "input": [
      "!echo \"hello world\" | wc"
     ],
     "language": "python",
     "metadata": {},
     "outputs": [
      {
       "output_type": "stream",
       "stream": "stdout",
       "text": [
        "       1       2      12\r\n"
       ]
      }
     ],
     "prompt_number": 30
    },
    {
     "cell_type": "code",
     "collapsed": false,
     "input": [
      "! cat hello.txt"
     ],
     "language": "python",
     "metadata": {},
     "outputs": [
      {
       "output_type": "stream",
       "stream": "stdout",
       "text": [
        "hello world\r\n"
       ]
      }
     ],
     "prompt_number": 32
    },
    {
     "cell_type": "code",
     "collapsed": false,
     "input": [
      "! cat hello.txt | wc"
     ],
     "language": "python",
     "metadata": {},
     "outputs": [
      {
       "output_type": "stream",
       "stream": "stdout",
       "text": [
        "       1       2      12\r\n"
       ]
      }
     ],
     "prompt_number": 33
    },
    {
     "cell_type": "markdown",
     "metadata": {
      "slideshow": {
       "slide_type": "slide"
      }
     },
     "source": [
      "## pipes, redirections, cats, heads and tails"
     ]
    },
    {
     "cell_type": "code",
     "collapsed": false,
     "input": [
      "! ls -l tuna-upsum.txt"
     ],
     "language": "python",
     "metadata": {},
     "outputs": [
      {
       "output_type": "stream",
       "stream": "stdout",
       "text": [
        "-rw-r--r--  1 ivan  staff  1654 Jun 17 01:49 tuna-upsum.txt\r\n"
       ]
      }
     ],
     "prompt_number": 35
    },
    {
     "cell_type": "code",
     "collapsed": false,
     "input": [
      "! head -4 tuna-upsum.txt"
     ],
     "language": "python",
     "metadata": {},
     "outputs": [
      {
       "output_type": "stream",
       "stream": "stdout",
       "text": [
        "Giant sea bass, threadfin, slipmouth. Grenadier, gulper eel; bluntnose minnow\r\n",
        "bleak wrymouth gouramie, smelt zebra pleco cowfish.\r\n",
        "\r\n",
        "Sea dragon, wrasse torrent catfish mudsucker. Giant gourami, summer flounder\r\n"
       ]
      }
     ],
     "prompt_number": 38
    },
    {
     "cell_type": "code",
     "collapsed": false,
     "input": [
      "! tail -3 tuna-upsum.txt"
     ],
     "language": "python",
     "metadata": {},
     "outputs": [
      {
       "output_type": "stream",
       "stream": "stdout",
       "text": [
        "deep sea smelt featherfin knifefish platyfish tigerperch snake mudhead longnose\r\n",
        "lancetfish slimy sculpin. Barreleye, smooth dogfish icefish pumpkinseed, grideye\r\n",
        "ocean perch whitefish; Sevan trout king-of-the-salmon.\r\n"
       ]
      }
     ],
     "prompt_number": 42
    },
    {
     "cell_type": "markdown",
     "metadata": {
      "slideshow": {
       "slide_type": "slide"
      }
     },
     "source": [
      "## Exercise 2\n",
      "\n",
      "1. create a text file using `echo` and redirection (try \"\\n\" character for more fun)\n",
      "1. create a bigger text file (copy-paste from wikipedia, lorem ipsum, ...)\n",
      "1. try `cat`, `head` and `tail`\n",
      "1. try \"piping\" `cat` output into `wc -w` (or `tr [a-z] [A-Z]`)"
     ]
    },
    {
     "cell_type": "markdown",
     "metadata": {
      "internals": {},
      "slideshow": {
       "slide_type": "notes"
      }
     },
     "source": [
      "\n",
      "## find, zip, tar, man\n",
      "## shell variables, env\n",
      "## .bashrc\n",
      "## scripting\n",
      "## ssh and rsync\n",
      "\n",
      "# Git\n",
      "\n",
      "# docs\n",
      "## markdown\n",
      "## Makefile"
     ]
    },
    {
     "cell_type": "code",
     "collapsed": false,
     "input": [
      "700.0/960 * 1099"
     ],
     "language": "python",
     "metadata": {
      "internals": {
       "slide_helper": "subslide_end"
      },
      "slide_helper": "slide_end",
      "slideshow": {
       "slide_type": "notes"
      }
     },
     "outputs": [
      {
       "metadata": {},
       "output_type": "pyout",
       "prompt_number": 25,
       "text": [
        "801.3541666666666"
       ]
      }
     ],
     "prompt_number": 25
    },
    {
     "cell_type": "markdown",
     "metadata": {
      "internals": {
       "slide_type": "subslide"
      },
      "slideshow": {
       "slide_type": "slide"
      }
     },
     "source": [
      "<center><h1>Documentation</h1></center>"
     ]
    },
    {
     "cell_type": "markdown",
     "metadata": {
      "slideshow": {
       "slide_type": "slide"
      }
     },
     "source": [
      "![](img/wtf-per-min.png)"
     ]
    },
    {
     "cell_type": "markdown",
     "metadata": {
      "slideshow": {
       "slide_type": "slide"
      }
     },
     "source": [
      "![](img/ddd1.png)\n",
      "([src](http://www.slideshare.net/coordt/documentation-driven-development))"
     ]
    },
    {
     "cell_type": "markdown",
     "metadata": {
      "slideshow": {
       "slide_type": "slide"
      }
     },
     "source": [
      "![](img/ddd2.png)"
     ]
    },
    {
     "cell_type": "markdown",
     "metadata": {
      "slideshow": {
       "slide_type": "slide"
      }
     },
     "source": [
      "![](img/ddd3.png)"
     ]
    }
   ],
   "metadata": {}
  }
 ]
}