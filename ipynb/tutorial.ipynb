{
 "metadata": {
  "celltoolbar": "Slideshow",
  "name": "",
  "signature": "sha256:a88afb350b38a37a73debc4d41074748534b73d71543d82c0098791a0526b20a"
 },
 "nbformat": 3,
 "nbformat_minor": 0,
 "worksheets": [
  {
   "cells": [
    {
     "cell_type": "markdown",
     "metadata": {
      "internals": {
       "slide_helper": "subslide_end",
       "slide_type": "subslide"
      },
      "slide_helper": "slide_end",
      "slideshow": {
       "slide_type": "slide"
      }
     },
     "source": [
      "# CLI until it CLIcks\n",
      "\n",
      "## Ivan Zimine\n",
      "## 18 June, 2014\n",
      "\n",
      "![](img/logo-pycon-RGB-2014.svg)"
     ]
    },
    {
     "cell_type": "markdown",
     "metadata": {
      "internals": {
       "slide_helper": "subslide_end",
       "slide_type": "subslide"
      },
      "slide_helper": "slide_end",
      "slideshow": {
       "slide_type": "slide"
      }
     },
     "source": [
      "## Starting some \"fancy_pro\"\n",
      "\n",
      "```\n",
      "$ sudo apt-get install postgresql\n",
      "$ mkvirtualenv fancy_proj\n",
      "$ pip install -r requirements.txt\n",
      "$ cd ~/dev && mkdir fancy_proj\n",
      "$ git init\n",
      "```"
     ]
    },
    {
     "cell_type": "markdown",
     "metadata": {
      "internals": {
       "slide_helper": "subslide_end",
       "slide_type": "subslide"
      },
      "slide_helper": "slide_end",
      "slideshow": {
       "slide_type": "slide"
      }
     },
     "source": [
      "## Plan\n",
      "\n",
      "1. Shut up and **shell**\n",
      "    - commands, options, arguments\n",
      "    - environment and scripting\n",
      "2. Shut up and **git**\n",
      "    - init, add, commit, push, pull, branch, merge\n",
      "3. Shut up and **mkdocs**\n",
      "    - sphinx (reStructuredText)\n",
      "    - mkdocs (markdown)"
     ]
    },
    {
     "cell_type": "markdown",
     "metadata": {
      "internals": {
       "slide_helper": "subslide_end",
       "slide_type": "subslide"
      },
      "slide_helper": "slide_end",
      "slideshow": {
       "slide_type": "slide"
      }
     },
     "source": [
      "<center><h1>Shell</h1></center>"
     ]
    },
    {
     "cell_type": "markdown",
     "metadata": {
      "internals": {
       "slide_helper": "subslide_end",
       "slide_type": "subslide"
      },
      "slide_helper": "slide_end",
      "slideshow": {
       "slide_type": "slide"
      }
     },
     "source": [
      "## Terminal, shell, console,...\n",
      "\n",
      "> A terminal is at the end of an electric wire,\n",
      "> a shell is the home of a turtle, \n",
      "> tty is a strange abbreviation, and a console is a kind of cabinet.\n",
      "\n",
      "* terminal = text input/output environment\n",
      "* console = physical terminal\n",
      "* shell = command line interpreter\n",
      "\n",
      "([source](http://unix.stackexchange.com/questions/4126/what-is-the-exact-difference-between-a-terminal-a-shell-a-tty-and-a-con/))"
     ]
    },
    {
     "cell_type": "markdown",
     "metadata": {
      "internals": {
       "slide_helper": "subslide_end",
       "slide_type": "subslide"
      },
      "slide_helper": "slide_end",
      "slideshow": {
       "slide_type": "slide"
      }
     },
     "source": [
      "## Terminal, shell, console,...\n",
      "\n",
      "![](img/terminal_whoami.png)\n",
      "\n",
      "`Terminal.app` (terminal emulator) running `bash` (shell).\n"
     ]
    },
    {
     "cell_type": "markdown",
     "metadata": {
      "internals": {
       "slide_helper": "subslide_end",
       "slide_type": "subslide"
      },
      "slide_helper": "slide_end",
      "slideshow": {
       "slide_type": "slide"
      }
     },
     "source": [
      "## Terminal, shell, console,...\n",
      "\n",
      "![](img/terminal_whoami_arrows.png)\n"
     ]
    },
    {
     "cell_type": "markdown",
     "metadata": {
      "internals": {
       "slide_helper": "subslide_end",
       "slide_type": "subslide"
      },
      "slide_helper": "slide_end",
      "slideshow": {
       "slide_type": "slide"
      }
     },
     "source": [
      "## velo-love\n",
      "\n",
      "![](img/terminal_velos.png)"
     ]
    },
    {
     "cell_type": "markdown",
     "metadata": {
      "internals": {
       "slide_type": "subslide"
      },
      "slideshow": {
       "slide_type": "slide"
      }
     },
     "source": [
      "## shell from ipython notebook "
     ]
    },
    {
     "cell_type": "code",
     "collapsed": false,
     "input": [
      "%%bash\n",
      "whoami"
     ],
     "language": "python",
     "metadata": {
      "internals": {},
      "slideshow": {
       "slide_type": "-"
      }
     },
     "outputs": [
      {
       "output_type": "stream",
       "stream": "stdout",
       "text": [
        "ivan\n"
       ]
      }
     ],
     "prompt_number": 1
    },
    {
     "cell_type": "code",
     "collapsed": false,
     "input": [
      "!whoami"
     ],
     "language": "python",
     "metadata": {
      "internals": {},
      "slideshow": {
       "slide_type": "-"
      }
     },
     "outputs": [
      {
       "output_type": "stream",
       "stream": "stdout",
       "text": [
        "ivan\r\n"
       ]
      }
     ],
     "prompt_number": 2
    },
    {
     "cell_type": "markdown",
     "metadata": {
      "internals": {
       "slide_helper": "subslide_end"
      },
      "slide_helper": "slide_end",
      "slideshow": {
       "slide_type": "-"
      }
     },
     "source": [
      "(btw, [ipython notebook](http://ipython.org/notebook.html) is an amazing dev enviroment)"
     ]
    },
    {
     "cell_type": "markdown",
     "metadata": {
      "internals": {
       "slide_type": "subslide"
      },
      "slideshow": {
       "slide_type": "slide"
      }
     },
     "source": [
      "# Files and directories"
     ]
    },
    {
     "cell_type": "code",
     "collapsed": false,
     "input": [
      "!whereami"
     ],
     "language": "python",
     "metadata": {
      "internals": {},
      "slideshow": {
       "slide_type": "-"
      }
     },
     "outputs": [
      {
       "output_type": "stream",
       "stream": "stdout",
       "text": [
        "/bin/sh: whereami: command not found\r\n"
       ]
      }
     ],
     "prompt_number": 3
    },
    {
     "cell_type": "code",
     "collapsed": false,
     "input": [
      "# print working directory\n",
      "!pwd"
     ],
     "language": "python",
     "metadata": {
      "internals": {},
      "slideshow": {
       "slide_type": "-"
      }
     },
     "outputs": [
      {
       "output_type": "stream",
       "stream": "stdout",
       "text": [
        "/Users/ivan/dev/active/pyconsg2014-tutorial-cli/slides\r\n"
       ]
      }
     ],
     "prompt_number": 4
    },
    {
     "cell_type": "code",
     "collapsed": false,
     "input": [
      "# list (directory content)\n",
      "!ls"
     ],
     "language": "python",
     "metadata": {
      "internals": {
       "slide_helper": "subslide_end"
      },
      "slide_helper": "slide_end",
      "slideshow": {
       "slide_type": "-"
      }
     },
     "outputs": [
      {
       "output_type": "stream",
       "stream": "stdout",
       "text": [
        "00-shell.ipynb       custom.css           \u001b[34mreveal.js\u001b[m\u001b[m            slides_conf.tpl\r\n",
        "00-shell.slides.html \u001b[34mimg\u001b[m\u001b[m                  slides_conf.py\r\n"
       ]
      }
     ],
     "prompt_number": 5
    },
    {
     "cell_type": "markdown",
     "metadata": {
      "internals": {
       "slide_type": "subslide"
      },
      "slideshow": {
       "slide_type": "slide"
      }
     },
     "source": [
      "## Command options and arguments"
     ]
    },
    {
     "cell_type": "code",
     "collapsed": false,
     "input": [
      "# list (long format)\n",
      "!ls"
     ],
     "language": "python",
     "metadata": {
      "internals": {},
      "slideshow": {
       "slide_type": "-"
      }
     },
     "outputs": [
      {
       "output_type": "stream",
       "stream": "stdout",
       "text": [
        "00-shell.ipynb       custom.css           \u001b[34mreveal.js\u001b[m\u001b[m            slides_conf.tpl\r\n",
        "00-shell.slides.html \u001b[34mimg\u001b[m\u001b[m                  slides_conf.py\r\n"
       ]
      }
     ],
     "prompt_number": 6
    },
    {
     "cell_type": "code",
     "collapsed": false,
     "input": [
      "!ls -F"
     ],
     "language": "python",
     "metadata": {
      "internals": {},
      "slideshow": {
       "slide_type": "-"
      }
     },
     "outputs": [
      {
       "output_type": "stream",
       "stream": "stdout",
       "text": [
        "00-shell.ipynb        custom.css            \u001b[34mreveal.js\u001b[m\u001b[m/            slides_conf.tpl\r\n",
        "00-shell.slides.html  \u001b[34mimg\u001b[m\u001b[m/                  slides_conf.py\r\n"
       ]
      }
     ],
     "prompt_number": 7
    },
    {
     "cell_type": "code",
     "collapsed": false,
     "input": [
      "!ls -l img/*"
     ],
     "language": "python",
     "metadata": {
      "internals": {},
      "slideshow": {
       "slide_type": "-"
      }
     },
     "outputs": [
      {
       "output_type": "stream",
       "stream": "stdout",
       "text": [
        "-rw-r--r--@ 1 ivan  staff  104476 Jun  9 11:15 img/logo-pycon-RGB-2014.svg\r\n",
        "-rw-r--r--@ 1 ivan  staff   50757 Jun 11 11:59 img/terminal_velos.png\r\n",
        "-rw-r--r--@ 1 ivan  staff   34852 Jun 10 21:51 img/terminal_whoami.png\r\n",
        "-rw-r--r--@ 1 ivan  staff   40177 Jun 10 21:50 img/terminal_whoami_arrows.png\r\n"
       ]
      }
     ],
     "prompt_number": 8
    },
    {
     "cell_type": "markdown",
     "metadata": {
      "internals": {},
      "slideshow": {
       "slide_type": "notes"
      }
     },
     "source": [
      "\n",
      "## Creating and deleting files\n",
      "## globbing\n",
      "## pipes and redirection\n",
      "## find, zip, tar, man\n",
      "## shell variables, env\n",
      "## .bashrc\n",
      "## scripting\n",
      "## ssh and rsync\n",
      "\n",
      "# Git\n",
      "\n",
      "# docs\n",
      "## markdown\n",
      "## Makefile"
     ]
    },
    {
     "cell_type": "code",
     "collapsed": false,
     "input": [
      "700.0/960 * 1099"
     ],
     "language": "python",
     "metadata": {
      "internals": {
       "slide_helper": "subslide_end"
      },
      "slide_helper": "slide_end",
      "slideshow": {
       "slide_type": "notes"
      }
     },
     "outputs": [
      {
       "metadata": {},
       "output_type": "pyout",
       "prompt_number": 9,
       "text": [
        "801.3541666666666"
       ]
      }
     ],
     "prompt_number": 9
    },
    {
     "cell_type": "code",
     "collapsed": false,
     "input": [
      "ipyt=get_ipython()"
     ],
     "language": "python",
     "metadata": {},
     "outputs": [],
     "prompt_number": 4
    },
    {
     "cell_type": "code",
     "collapsed": false,
     "input": [
      "import IPython"
     ],
     "language": "python",
     "metadata": {},
     "outputs": [],
     "prompt_number": 5
    },
    {
     "cell_type": "code",
     "collapsed": false,
     "input": [
      "IPython.version_info"
     ],
     "language": "python",
     "metadata": {},
     "outputs": [
      {
       "metadata": {},
       "output_type": "pyout",
       "prompt_number": 7,
       "text": [
        "(2, 0, 0, '')"
       ]
      }
     ],
     "prompt_number": 7
    },
    {
     "cell_type": "code",
     "collapsed": false,
     "input": [],
     "language": "python",
     "metadata": {},
     "outputs": []
    }
   ],
   "metadata": {}
  }
 ]
}