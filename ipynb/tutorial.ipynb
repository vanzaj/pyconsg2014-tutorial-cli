{
 "metadata": {
  "name": "",
  "signature": "sha256:4ed1ebeb58af51b014d3d41aed704b031e264580074033f5b3182cd4cf436203"
 },
 "nbformat": 3,
 "nbformat_minor": 0,
 "worksheets": [
  {
   "cells": [
    {
     "cell_type": "markdown",
     "metadata": {
      "internals": {
       "slide_type": "subslide"
      },
      "slideshow": {
       "slide_type": "slide"
      }
     },
     "source": [
      "# CLI until it CLIcks\n",
      "\n",
      "## Ivan Zimine\n",
      "## 18 June, 2014\n",
      "\n",
      "\n",
      "![](img/logo-pycon-RGB-2014.svg)"
     ]
    },
    {
     "cell_type": "markdown",
     "metadata": {
      "internals": {
       "slide_helper": "subslide_end",
       "slide_type": "subslide"
      },
      "slide_helper": "slide_end",
      "slideshow": {
       "slide_type": "slide"
      }
     },
     "source": [
      "## Plan\n",
      "\n",
      "1. Shut up and **shell**\n",
      "    - commands, options, arguments\n",
      "    - environment and scripting\n",
      "\n",
      "1. Shut up and **mkdocs**\n",
      "    - mkdocs (markdown)\n",
      "    - sphinx (reStructuredText)\n",
      "\n",
      "1. Shut up and **git**\n",
      "    - init, add, commit, push, pull, branch, merge\n",
      "    \n",
      "(Help with setup: [lpthw cli](http://learnpythonthehardway.org/book/appendix-a-cli/ex1.html) or [soft carpentry](http://software-carpentry.org/v5/setup.html))"
     ]
    },
    {
     "cell_type": "markdown",
     "metadata": {
      "internals": {
       "slide_helper": "subslide_end",
       "slide_type": "subslide"
      },
      "slide_helper": "slide_end",
      "slideshow": {
       "slide_type": "slide"
      }
     },
     "source": [
      "![](img/joey_devilla_and_zed_shaw.jpg)"
     ]
    },
    {
     "cell_type": "markdown",
     "metadata": {
      "internals": {
       "slide_helper": "subslide_end",
       "slide_type": "subslide"
      },
      "slide_helper": "slide_end",
      "slideshow": {
       "slide_type": "slide"
      }
     },
     "source": [
      "![](img/learn-python-hard-way.png)"
     ]
    },
    {
     "cell_type": "markdown",
     "metadata": {
      "internals": {
       "slide_helper": "subslide_end",
       "slide_type": "subslide"
      },
      "slide_helper": "slide_end",
      "slideshow": {
       "slide_type": "slide"
      }
     },
     "source": [
      "![](img/learn-cli-hard-way.png)"
     ]
    },
    {
     "cell_type": "markdown",
     "metadata": {
      "internals": {
       "slide_helper": "subslide_end",
       "slide_type": "subslide"
      },
      "slide_helper": "slide_end",
      "slideshow": {
       "slide_type": "slide"
      }
     },
     "source": [
      "![](img/wp-in-the-beginning.png)"
     ]
    },
    {
     "cell_type": "markdown",
     "metadata": {
      "internals": {
       "slide_helper": "subslide_end",
       "slide_type": "subslide"
      },
      "slide_helper": "slide_end",
      "slideshow": {
       "slide_type": "slide"
      }
     },
     "source": [
      "<center><h1>Part 1: Shell</h1></center>"
     ]
    },
    {
     "cell_type": "markdown",
     "metadata": {
      "internals": {
       "slide_helper": "subslide_end",
       "slide_type": "subslide"
      },
      "slide_helper": "slide_end",
      "slideshow": {
       "slide_type": "slide"
      }
     },
     "source": [
      "## Starting a new \"fancy_pro\"\n",
      "\n",
      "Typical \"let's get started\" instructions from some project documentation or a tutorial:\n",
      "\n",
      "```\n",
      "$ sudo apt-get install postgresql\n",
      "$ mkvirtualenv fancy_proj\n",
      "$ pip install -r requirements.txt\n",
      "$ cd ~/dev && mkdir fancy_proj\n",
      "$ git init\n",
      "```\n",
      "\n",
      "May not work so well for someone who's never opened a terminal before. "
     ]
    },
    {
     "cell_type": "markdown",
     "metadata": {
      "internals": {
       "slide_helper": "subslide_end",
       "slide_type": "subslide"
      },
      "slide_helper": "slide_end",
      "slideshow": {
       "slide_type": "slide"
      }
     },
     "source": [
      "## Terminal, shell, console,...\n",
      "\n",
      "[unix.stackexchange](http://unix.stackexchange.com/questions/4126/what-is-the-exact-difference-between-a-terminal-a-shell-a-tty-and-a-con/)\n",
      "\n",
      "> A terminal is at the end of an electric wire,\n",
      "> a shell is the home of a turtle, \n",
      "> tty is a strange abbreviation, and a console is a kind of cabinet.\n",
      "\n",
      "* terminal == text input/output environment\n",
      "* console == physical terminal\n",
      "* shell == command line interpreter (cli)\n",
      "\n",
      "A shell is a **program** whose primary purpose is to read commands and run other programs.\n"
     ]
    },
    {
     "cell_type": "markdown",
     "metadata": {
      "internals": {
       "slide_helper": "subslide_end",
       "slide_type": "subslide"
      },
      "slide_helper": "slide_end",
      "slideshow": {
       "slide_type": "slide"
      }
     },
     "source": [
      "## Terminal, shell, console,...\n",
      "\n",
      "![](img/terminal_whoami.png)\n",
      "\n",
      "OSX's `Terminal.app` (terminal emulator) running `bash` (shell).\n"
     ]
    },
    {
     "cell_type": "markdown",
     "metadata": {
      "internals": {
       "slide_helper": "subslide_end",
       "slide_type": "subslide"
      },
      "slide_helper": "slide_end",
      "slideshow": {
       "slide_type": "slide"
      }
     },
     "source": [
      "## Terminal, shell, console,...\n",
      "\n",
      "![](img/terminal_whoami_arrows.png)\n"
     ]
    },
    {
     "cell_type": "markdown",
     "metadata": {
      "internals": {
       "slide_helper": "subslide_end",
       "slide_type": "subslide"
      },
      "slide_helper": "slide_end",
      "slideshow": {
       "slide_type": "slide"
      }
     },
     "source": [
      "[try.github.io]('https://try.github.io')\n",
      "\n",
      "![](img/try-git.png)\n",
      "\n",
      "(online shell simulator for learning git)"
     ]
    },
    {
     "cell_type": "markdown",
     "metadata": {
      "internals": {
       "slide_type": "subslide"
      },
      "slideshow": {
       "slide_type": "slide"
      }
     },
     "source": [
      "# Files and directories"
     ]
    },
    {
     "cell_type": "markdown",
     "metadata": {
      "internals": {},
      "slideshow": {
       "slide_type": "-"
      }
     },
     "source": [
      "Navigating file system:\n",
      "\n",
      "    pwd -- print working directory\n",
      "    ls  -- list (content of current directory) \n",
      "    cd  -- change directory"
     ]
    },
    {
     "cell_type": "code",
     "collapsed": false,
     "input": [
      "cd ~"
     ],
     "language": "python",
     "metadata": {
      "internals": {},
      "slideshow": {
       "slide_type": "-"
      }
     },
     "outputs": [
      {
       "output_type": "stream",
       "stream": "stdout",
       "text": [
        "/Users/ivan\n"
       ]
      }
     ],
     "prompt_number": 1
    },
    {
     "cell_type": "code",
     "collapsed": false,
     "input": [
      "ls"
     ],
     "language": "python",
     "metadata": {
      "internals": {
       "slide_helper": "subslide_end"
      },
      "slide_helper": "slide_end",
      "slideshow": {
       "slide_type": "-"
      }
     },
     "outputs": [
      {
       "output_type": "stream",
       "stream": "stdout",
       "text": [
        "\u001b[34mApplications\u001b[m\u001b[m/ \u001b[34mDesktop\u001b[m\u001b[m/      \u001b[34mDownloads\u001b[m\u001b[m/    \u001b[34mMovies\u001b[m\u001b[m/       \u001b[34mPictures\u001b[m\u001b[m/     \u001b[34mbin\u001b[m\u001b[m/          \u001b[34mtmp\u001b[m\u001b[m/\r\n",
        "\u001b[34mCloud\u001b[m\u001b[m/        \u001b[34mDocuments\u001b[m\u001b[m/    \u001b[34mLibrary\u001b[m\u001b[m/      \u001b[34mMusic\u001b[m\u001b[m/        \u001b[34mPublic\u001b[m\u001b[m/       \u001b[34mdev\u001b[m\u001b[m/\r\n"
       ]
      }
     ],
     "prompt_number": 2
    },
    {
     "cell_type": "code",
     "collapsed": false,
     "input": [
      "cd tmp/pyconsg2014-sbox/img/velos/"
     ],
     "language": "python",
     "metadata": {
      "internals": {},
      "slideshow": {
       "slide_type": "-"
      }
     },
     "outputs": [
      {
       "output_type": "stream",
       "stream": "stdout",
       "text": [
        "/Users/ivan/tmp/pyconsg2014-sbox/img/velos\n"
       ]
      }
     ],
     "prompt_number": 3
    },
    {
     "cell_type": "code",
     "collapsed": false,
     "input": [
      "ls"
     ],
     "language": "python",
     "metadata": {
      "internals": {
       "slide_helper": "subslide_end"
      },
      "slide_helper": "slide_end",
      "slideshow": {
       "slide_type": "-"
      }
     },
     "outputs": [
      {
       "output_type": "stream",
       "stream": "stdout",
       "text": [
        "amster1.jpg           guangzho1.jpg         myajima.jpg           small_cambridge1.jpg  small_myajima.jpg     tokyo_oam2.jpg\r\n",
        "asakusa1.jpg          gva1.jpg              small_amster1.jpg     small_guangzho1.jpg   small_tokyo_oam1.jpg\r\n",
        "asakusa2.jpg          index.html            small_asakusa1.jpg    small_gva1.jpg        small_tokyo_oam2.jpg\r\n",
        "cambridge1.jpg        kobe01.jpg            small_asakusa2.jpg    small_kobe01.jpg      tokyo_oam1.jpg\r\n"
       ]
      }
     ],
     "prompt_number": 4
    },
    {
     "cell_type": "markdown",
     "metadata": {
      "internals": {
       "slide_type": "subslide"
      },
      "slideshow": {
       "slide_type": "slide"
      }
     },
     "source": [
      "## Command options and arguments\n",
      "\n",
      "Anatomy of a command:\n",
      "\n",
      "    <cmd> [options] [<arguments>]\n"
     ]
    },
    {
     "cell_type": "code",
     "collapsed": false,
     "input": [
      "cd /Users/ivan/tmp/pyconsg2014-sbox/img/velos/"
     ],
     "language": "python",
     "metadata": {
      "internals": {},
      "slideshow": {
       "slide_type": "-"
      }
     },
     "outputs": [
      {
       "output_type": "stream",
       "stream": "stdout",
       "text": [
        "/Users/ivan/tmp/pyconsg2014-sbox/img/velos\n"
       ]
      }
     ],
     "prompt_number": 5
    },
    {
     "cell_type": "code",
     "collapsed": false,
     "input": [
      "ls -1"
     ],
     "language": "python",
     "metadata": {
      "internals": {
       "slide_helper": "subslide_end"
      },
      "slide_helper": "slide_end",
      "slideshow": {
       "slide_type": "-"
      }
     },
     "outputs": [
      {
       "output_type": "stream",
       "stream": "stdout",
       "text": [
        "amster1.jpg\r\n",
        "asakusa1.jpg\r\n",
        "asakusa2.jpg\r\n",
        "cambridge1.jpg\r\n",
        "guangzho1.jpg\r\n",
        "gva1.jpg\r\n",
        "index.html\r\n",
        "kobe01.jpg\r\n",
        "myajima.jpg\r\n",
        "small_amster1.jpg\r\n",
        "small_asakusa1.jpg\r\n",
        "small_asakusa2.jpg\r\n",
        "small_cambridge1.jpg\r\n",
        "small_guangzho1.jpg\r\n",
        "small_gva1.jpg\r\n",
        "small_kobe01.jpg\r\n",
        "small_myajima.jpg\r\n",
        "small_tokyo_oam1.jpg\r\n",
        "small_tokyo_oam2.jpg\r\n",
        "tokyo_oam1.jpg\r\n",
        "tokyo_oam2.jpg\r\n"
       ]
      }
     ],
     "prompt_number": 6
    },
    {
     "cell_type": "markdown",
     "metadata": {
      "internals": {
       "slide_helper": "subslide_end",
       "slide_type": "subslide"
      },
      "slide_helper": "slide_end",
      "slideshow": {
       "slide_type": "slide"
      }
     },
     "source": [
      "## Almost WYSIWYG\n",
      "\n",
      "![](img/term-ls-finder.png)\n"
     ]
    },
    {
     "cell_type": "markdown",
     "metadata": {
      "internals": {
       "slide_type": "subslide"
      },
      "slideshow": {
       "slide_type": "slide"
      }
     },
     "source": [
      "## More options"
     ]
    },
    {
     "cell_type": "code",
     "collapsed": false,
     "input": [
      "ls -alF"
     ],
     "language": "python",
     "metadata": {
      "internals": {
       "slide_helper": "subslide_end"
      },
      "slide_helper": "slide_end",
      "slideshow": {
       "slide_type": "-"
      }
     },
     "outputs": [
      {
       "output_type": "stream",
       "stream": "stdout",
       "text": [
        "total 13624\r\n",
        "drwxr-xr-x  24 ivan  staff      816 Jun 18 09:21 \u001b[34m.\u001b[m\u001b[m/\r\n",
        "drwxr-xr-x   4 ivan  staff      136 Jun 10 20:38 \u001b[34m..\u001b[m\u001b[m/\r\n",
        "-rw-r--r--   1 ivan  staff     6148 Jun 10 19:40 .DS_Store\r\n",
        "-rw-r--r--   1 ivan  staff   844700 Aug 19  2007 amster1.jpg\r\n",
        "-rw-r--r--   1 ivan  staff   882404 Mar  7  2009 asakusa1.jpg\r\n",
        "-rw-r--r--   1 ivan  staff   924487 Mar  7  2009 asakusa2.jpg\r\n",
        "-rw-r--r--   1 ivan  staff   681743 Apr 15  2007 cambridge1.jpg\r\n",
        "-rw-r--r--   1 ivan  staff   717752 Apr 15  2007 guangzho1.jpg\r\n",
        "-rw-r--r--   1 ivan  staff  1060876 Apr 15  2007 gva1.jpg\r\n",
        "-rw-r--r--   1 ivan  staff      309 Jun 18 09:21 index.html\r\n",
        "-rw-r--r--   1 ivan  staff   337280 May  8  2008 kobe01.jpg\r\n",
        "-rw-r--r--   1 ivan  staff   351742 May  6  2008 myajima.jpg\r\n",
        "-rw-r--r--   1 ivan  staff    75560 Jun 18 09:19 small_amster1.jpg\r\n",
        "-rw-r--r--   1 ivan  staff    96543 Jun 18 09:19 small_asakusa1.jpg\r\n",
        "-rw-r--r--   1 ivan  staff   107893 Jun 18 09:19 small_asakusa2.jpg\r\n",
        "-rw-r--r--   1 ivan  staff    65872 Jun 18 09:20 small_cambridge1.jpg\r\n",
        "-rw-r--r--   1 ivan  staff    76508 Jun 18 09:20 small_guangzho1.jpg\r\n",
        "-rw-r--r--   1 ivan  staff    72804 Jun 18 09:20 small_gva1.jpg\r\n",
        "-rw-r--r--   1 ivan  staff    30774 Jun 18 09:20 small_kobe01.jpg\r\n",
        "-rw-r--r--   1 ivan  staff    30853 Jun 18 09:20 small_myajima.jpg\r\n",
        "-rw-r--r--   1 ivan  staff    28214 Jun 18 09:20 small_tokyo_oam1.jpg\r\n",
        "-rw-r--r--   1 ivan  staff    24036 Jun 18 09:20 small_tokyo_oam2.jpg\r\n",
        "-rw-r--r--   1 ivan  staff   287279 Aug  2  2008 tokyo_oam1.jpg\r\n",
        "-rw-r--r--   1 ivan  staff   224311 Jul 13  2008 tokyo_oam2.jpg\r\n"
       ]
      }
     ],
     "prompt_number": 7
    },
    {
     "cell_type": "markdown",
     "metadata": {
      "internals": {
       "slide_type": "subslide"
      },
      "slideshow": {
       "slide_type": "slide"
      }
     },
     "source": [
      "## More arguments"
     ]
    },
    {
     "cell_type": "code",
     "collapsed": false,
     "input": [
      "ls -l amster1.jpg"
     ],
     "language": "python",
     "metadata": {
      "internals": {},
      "slideshow": {
       "slide_type": "-"
      }
     },
     "outputs": [
      {
       "output_type": "stream",
       "stream": "stdout",
       "text": [
        "-rw-r--r--  1 ivan  staff  844700 Aug 19  2007 amster1.jpg\r\n"
       ]
      }
     ],
     "prompt_number": 8
    },
    {
     "cell_type": "code",
     "collapsed": false,
     "input": [
      "ls [at]*.jpg"
     ],
     "language": "python",
     "metadata": {
      "internals": {
       "slide_helper": "subslide_end"
      },
      "slide_helper": "slide_end",
      "slideshow": {
       "slide_type": "-"
      }
     },
     "outputs": [
      {
       "output_type": "stream",
       "stream": "stdout",
       "text": [
        "amster1.jpg     asakusa1.jpg    asakusa2.jpg    tokyo_oam1.jpg  tokyo_oam2.jpg\r\n"
       ]
      }
     ],
     "prompt_number": 9
    },
    {
     "cell_type": "markdown",
     "metadata": {
      "internals": {
       "slide_type": "subslide"
      },
      "slideshow": {
       "slide_type": "slide"
      }
     },
     "source": [
      "## Absolute and relative paths"
     ]
    },
    {
     "cell_type": "code",
     "collapsed": false,
     "input": [
      "ls -l amster1.jpg"
     ],
     "language": "python",
     "metadata": {
      "internals": {},
      "slideshow": {
       "slide_type": "-"
      }
     },
     "outputs": [
      {
       "output_type": "stream",
       "stream": "stdout",
       "text": [
        "-rw-r--r--  1 ivan  staff  844700 Aug 19  2007 amster1.jpg\r\n"
       ]
      }
     ],
     "prompt_number": 10
    },
    {
     "cell_type": "code",
     "collapsed": false,
     "input": [
      "ls -l /Users/ivan/tmp/pyconsg2014-sbox/img/velos/amster1.jpg"
     ],
     "language": "python",
     "metadata": {
      "internals": {
       "slide_helper": "subslide_end"
      },
      "slide_helper": "slide_end",
      "slideshow": {
       "slide_type": "-"
      }
     },
     "outputs": [
      {
       "output_type": "stream",
       "stream": "stdout",
       "text": [
        "-rw-r--r--  1 ivan  staff  844700 Aug 19  2007 /Users/ivan/tmp/pyconsg2014-sbox/img/velos/amster1.jpg\r\n"
       ]
      }
     ],
     "prompt_number": 11
    },
    {
     "cell_type": "markdown",
     "metadata": {
      "internals": {
       "slide_helper": "subslide_end",
       "slide_type": "subslide"
      },
      "slide_helper": "slide_end",
      "slideshow": {
       "slide_type": "slide"
      }
     },
     "source": [
      "### Special paths\n",
      "\n",
      "```\n",
      "/   -- root directory\n",
      ".   -- current directory\n",
      "..  -- parent directory\n",
      "```"
     ]
    },
    {
     "cell_type": "markdown",
     "metadata": {
      "internals": {
       "slide_type": "subslide"
      },
      "slideshow": {
       "slide_type": "slide"
      }
     },
     "source": [
      "## Creating and deleting"
     ]
    },
    {
     "cell_type": "code",
     "collapsed": false,
     "input": [
      "cd ~/tmp"
     ],
     "language": "python",
     "metadata": {
      "internals": {},
      "slideshow": {
       "slide_type": "-"
      }
     },
     "outputs": [
      {
       "output_type": "stream",
       "stream": "stdout",
       "text": [
        "/Users/ivan/tmp\n"
       ]
      }
     ],
     "prompt_number": 12
    },
    {
     "cell_type": "code",
     "collapsed": false,
     "input": [
      "mkdir newdir"
     ],
     "language": "python",
     "metadata": {
      "internals": {},
      "slideshow": {
       "slide_type": "-"
      }
     },
     "outputs": [],
     "prompt_number": 13
    },
    {
     "cell_type": "code",
     "collapsed": false,
     "input": [
      "ls"
     ],
     "language": "python",
     "metadata": {
      "internals": {},
      "slideshow": {
       "slide_type": "-"
      }
     },
     "outputs": [
      {
       "output_type": "stream",
       "stream": "stdout",
       "text": [
        "blah.html         hello.txt         \u001b[34mnewdir\u001b[m\u001b[m/           \u001b[34mpyconsg2014-sbox\u001b[m\u001b[m/ tuna-upsum.txt\r\n",
        "emails.csv        \u001b[34mjunk\u001b[m\u001b[m/             \u001b[34mpyconsg\u001b[m\u001b[m/          \u001b[34mpydata_vid\u001b[m\u001b[m/\r\n"
       ]
      }
     ],
     "prompt_number": 14
    },
    {
     "cell_type": "code",
     "collapsed": false,
     "input": [
      "rmdir newdir"
     ],
     "language": "python",
     "metadata": {
      "internals": {
       "slide_helper": "subslide_end"
      },
      "slide_helper": "slide_end",
      "slideshow": {
       "slide_type": "-"
      }
     },
     "outputs": [],
     "prompt_number": 15
    },
    {
     "cell_type": "code",
     "collapsed": false,
     "input": [
      "ls"
     ],
     "language": "python",
     "metadata": {},
     "outputs": [
      {
       "output_type": "stream",
       "stream": "stdout",
       "text": [
        "blah.html         hello.txt         \u001b[34mpyconsg\u001b[m\u001b[m/          \u001b[34mpydata_vid\u001b[m\u001b[m/\r\n",
        "emails.csv        \u001b[34mjunk\u001b[m\u001b[m/             \u001b[34mpyconsg2014-sbox\u001b[m\u001b[m/ tuna-upsum.txt\r\n"
       ]
      }
     ],
     "prompt_number": 16
    },
    {
     "cell_type": "markdown",
     "metadata": {
      "internals": {
       "slide_type": "subslide"
      },
      "slideshow": {
       "slide_type": "slide"
      }
     },
     "source": [
      "## Creating and deleting files"
     ]
    },
    {
     "cell_type": "code",
     "collapsed": false,
     "input": [
      "! echo \"hello world\" > hello.txt"
     ],
     "language": "python",
     "metadata": {
      "internals": {},
      "slideshow": {
       "slide_type": "-"
      }
     },
     "outputs": [],
     "prompt_number": 17
    },
    {
     "cell_type": "code",
     "collapsed": false,
     "input": [
      "! ls *.txt"
     ],
     "language": "python",
     "metadata": {
      "internals": {},
      "slideshow": {
       "slide_type": "-"
      }
     },
     "outputs": [
      {
       "output_type": "stream",
       "stream": "stdout",
       "text": [
        "hello.txt      tuna-upsum.txt\r\n"
       ]
      }
     ],
     "prompt_number": 18
    },
    {
     "cell_type": "code",
     "collapsed": false,
     "input": [
      "! /bin/rm hello.txt"
     ],
     "language": "python",
     "metadata": {
      "internals": {
       "slide_helper": "subslide_end"
      },
      "slide_helper": "slide_end",
      "slideshow": {
       "slide_type": "-"
      }
     },
     "outputs": [],
     "prompt_number": 19
    },
    {
     "cell_type": "code",
     "collapsed": false,
     "input": [
      "! ls *.txt"
     ],
     "language": "python",
     "metadata": {},
     "outputs": [
      {
       "output_type": "stream",
       "stream": "stdout",
       "text": [
        "tuna-upsum.txt\r\n"
       ]
      }
     ],
     "prompt_number": 20
    },
    {
     "cell_type": "markdown",
     "metadata": {},
     "source": [
      "(Note: IPython has several built-in commands that act as system commands (`ls`, `cd`, `mkdir`,...). To  execute actual system command you need to add \"`!`\" in front, like \"`! ls -l`\")"
     ]
    },
    {
     "cell_type": "markdown",
     "metadata": {
      "internals": {
       "slide_helper": "subslide_end",
       "slide_type": "subslide"
      },
      "slide_helper": "slide_end",
      "slideshow": {
       "slide_type": "slide"
      }
     },
     "source": [
      "## Command options and arguments (recap)\n",
      "\n",
      "```\n",
      "$ <command> [<options>] [<arguments>]\n",
      "```\n",
      "\n",
      "`<command>` can be a binary executable, a script, a built-in shell command or an alias.\n",
      "\n",
      "Commands so far:\n",
      "\n",
      "* `pwd`  print working directory \n",
      "* `ls [path/to/dest]`  ist files\n",
      "* `cd [path/to/dest]`  change directory\n",
      "* `mkdir <name>`  create new directory\n",
      "* `rmdir <name>`  delete (remove) directory\n",
      "* `rm <name>`  delete file\n",
      "* `echo [args]` write arguments to stdout"
     ]
    },
    {
     "cell_type": "markdown",
     "metadata": {
      "internals": {
       "slide_helper": "subslide_end",
       "slide_type": "subslide"
      },
      "slide_helper": "slide_end",
      "slideshow": {
       "slide_type": "slide"
      }
     },
     "source": [
      "## Help\n",
      "\n",
      "* `man <cmd>` manual pages\n",
      "* `help [<cmd>]` shell help\n",
      "* `<cmd> -h | --help`\n",
      "* `<cmd> -v | --version` when asking for help online and getting asked \"what's your version\" in return"
     ]
    },
    {
     "cell_type": "markdown",
     "metadata": {
      "internals": {
       "slide_helper": "subslide_end",
       "slide_type": "subslide"
      },
      "slide_helper": "slide_end",
      "slideshow": {
       "slide_type": "slide"
      }
     },
     "source": [
      "## Exercise 1\n",
      "\n",
      "1. Open a terminal\n",
      "1. Try `ls`, `pwd` and `whoami` commands\n",
      "1. Create a directory called `pyconsg`\n",
      "1. `cd` into `pyconsg/` and back out\n",
      "1. find `pyconsg` using GUI tools (Finder, Explorer,...)\n",
      "1. create a file inside `pyconsg/`\n",
      "1. checkout man pages for `cp` and `mv`\n",
      "1. make copies and rename some files\n",
      "1. try `ls` with wildcards"
     ]
    },
    {
     "cell_type": "markdown",
     "metadata": {
      "internals": {
       "slide_type": "subslide"
      },
      "slideshow": {
       "slide_type": "slide"
      }
     },
     "source": [
      "## pipes, redirections, cats, heads and tails"
     ]
    },
    {
     "cell_type": "code",
     "collapsed": false,
     "input": [
      "! echo \"hello world\" > hello.txt"
     ],
     "language": "python",
     "metadata": {
      "internals": {},
      "slideshow": {
       "slide_type": "-"
      }
     },
     "outputs": [],
     "prompt_number": 21
    },
    {
     "cell_type": "code",
     "collapsed": false,
     "input": [
      "! echo \"hello world\" | wc -w"
     ],
     "language": "python",
     "metadata": {
      "internals": {},
      "slideshow": {
       "slide_type": "-"
      }
     },
     "outputs": [
      {
       "output_type": "stream",
       "stream": "stdout",
       "text": [
        "       2\r\n"
       ]
      }
     ],
     "prompt_number": 22
    },
    {
     "cell_type": "code",
     "collapsed": false,
     "input": [
      "! cat hello.txt"
     ],
     "language": "python",
     "metadata": {
      "internals": {},
      "slideshow": {
       "slide_type": "-"
      }
     },
     "outputs": [
      {
       "output_type": "stream",
       "stream": "stdout",
       "text": [
        "hello world\r\n"
       ]
      }
     ],
     "prompt_number": 23
    },
    {
     "cell_type": "code",
     "collapsed": false,
     "input": [
      "! cat hello.txt | wc"
     ],
     "language": "python",
     "metadata": {
      "internals": {
       "slide_helper": "subslide_end"
      },
      "slide_helper": "slide_end",
      "slideshow": {
       "slide_type": "-"
      }
     },
     "outputs": [
      {
       "output_type": "stream",
       "stream": "stdout",
       "text": [
        "       1       2      12\r\n"
       ]
      }
     ],
     "prompt_number": 24
    },
    {
     "cell_type": "markdown",
     "metadata": {
      "internals": {
       "slide_type": "subslide"
      },
      "slideshow": {
       "slide_type": "slide"
      }
     },
     "source": [
      "## pipes, redirections, cats, heads and tails"
     ]
    },
    {
     "cell_type": "code",
     "collapsed": false,
     "input": [
      "! head tuna-upsum.txt"
     ],
     "language": "python",
     "metadata": {
      "internals": {},
      "slideshow": {
       "slide_type": "-"
      }
     },
     "outputs": [
      {
       "output_type": "stream",
       "stream": "stdout",
       "text": [
        "Giant sea bass, threadfin, slipmouth. Grenadier, gulper eel; bluntnose minnow\r\n",
        "bleak wrymouth gouramie, smelt zebra pleco cowfish.\r\n",
        "\r\n",
        "Sea dragon, wrasse torrent catfish mudsucker. Giant gourami, summer flounder\r\n",
        "flashlight fish garibaldi Jack Dempsey creek chub, armoured catfish spiderfish\r\n",
        "footballfish spiny-back. New Zealand smelt frogfish mako shark oceanic\r\n",
        "flyingfish slender snipe eel spiderfish lake whitefish Pacific cod codlet. Sole,\r\n",
        "\"rock cod, European flounder.\" Silver driftfish Atlantic herring beardfish\r\n",
        "shortnose sucker devil ray southern smelt sauger; bull trout!\r\n",
        "\r\n"
       ]
      }
     ],
     "prompt_number": 25
    },
    {
     "cell_type": "code",
     "collapsed": false,
     "input": [
      "! tail -3 tuna-upsum.txt"
     ],
     "language": "python",
     "metadata": {
      "internals": {
       "slide_helper": "subslide_end"
      },
      "slide_helper": "slide_end",
      "slideshow": {
       "slide_type": "-"
      }
     },
     "outputs": [
      {
       "output_type": "stream",
       "stream": "stdout",
       "text": [
        "deep sea smelt featherfin knifefish platyfish tigerperch snake mudhead longnose\r\n",
        "lancetfish slimy sculpin. Barreleye, smooth dogfish icefish pumpkinseed, grideye\r\n",
        "ocean perch whitefish; Sevan trout king-of-the-salmon.\r\n"
       ]
      }
     ],
     "prompt_number": 26
    },
    {
     "cell_type": "markdown",
     "metadata": {
      "internals": {
       "slide_helper": "subslide_end",
       "slide_type": "subslide"
      },
      "slide_helper": "slide_end",
      "slideshow": {
       "slide_type": "slide"
      }
     },
     "source": [
      "## Exercise 3\n",
      "\n",
      "1. create a text file using `echo` and redirection (try \"\\n\" character for more fun)\n",
      "1. create a bigger text file (copy-paste from wikipedia, lorem ipsum, ...)\n",
      "1. try `cat`, `head` and `tail` of different files\n",
      "1. try `cat some-file.txt | wc -w`\n",
      "1. try `cat some-file.txt | tr [a-z] [A-Z]`\n",
      "1. try `history | tail`\n",
      "1. checkout `more` and `less` commands"
     ]
    },
    {
     "cell_type": "markdown",
     "metadata": {
      "internals": {
       "slide_helper": "subslide_end",
       "slide_type": "subslide"
      },
      "slide_helper": "slide_end",
      "slideshow": {
       "slide_type": "slide"
      }
     },
     "source": [
      "## Scripting\n",
      "\n",
      "    $ for file in *.jpg; do convert -monochrome -geometry 25% $file small_$file; done\n",
      "\n",
      "(`convert` is from the ImageMagick package)\n",
      "\n",
      "Shell provides:\n",
      "* variables\n",
      "* flow control (if, for)\n",
      "* functions"
     ]
    },
    {
     "cell_type": "markdown",
     "metadata": {
      "internals": {
       "slide_helper": "subslide_end",
       "slide_type": "subslide"
      },
      "slide_helper": "slide_end",
      "slideshow": {
       "slide_type": "slide"
      }
     },
     "source": [
      "## Variables\n",
      "\n",
      "Variables can be created following usual naming conventions and using \"=\" for assignment.\n",
      "But \"spaces\" are significant. Getting the value back requires \"$\" in front the variable name.\n",
      "\n",
      "```\n",
      "$ myvar = 5\n",
      "bash: myvar: command not found\n",
      "```\n",
      "\n",
      "```\n",
      "$ myvar=4\n",
      "$ echo $myvar\n",
      "4\n",
      "\n",
      "$ echo \"${myvar}2\"\n",
      "42\n",
      "```"
     ]
    },
    {
     "cell_type": "markdown",
     "metadata": {
      "internals": {
       "slide_helper": "subslide_end",
       "slide_type": "subslide"
      },
      "slide_helper": "slide_end",
      "slideshow": {
       "slide_type": "slide"
      }
     },
     "source": [
      "## Environment variables\n",
      "\n",
      "```\n",
      "$ echo $HOME\n",
      "/Users/ivan\n",
      "\n",
      "$ echo $SHELL\n",
      "/bin/bash \n",
      "\n",
      "$ echo $PATH\n",
      "/usr/local/bin:/usr/local/sbin:/usr/bin:/bin:/usr/sbin:/sbin:/usr/local/MacGPG2/bin:/usr/texbin\n",
      "```"
     ]
    },
    {
     "cell_type": "markdown",
     "metadata": {
      "internals": {
       "slide_helper": "subslide_end",
       "slide_type": "subslide"
      },
      "slide_helper": "slide_end",
      "slideshow": {
       "slide_type": "slide"
      }
     },
     "source": [
      "## Functions\n",
      "\n",
      "```\n",
      "$ grep 'anaconda()' -B2 -A13 ~/.functions\n",
      "\n",
      "# activate anaconda \n",
      "function anaconda() {\n",
      "    local anaconda_bin=\"${HOME}/dev/anaconda/bin\"\n",
      "    local leader=$(echo $PATH | cut -d':' -f1)\n",
      "    if [ \"$leader\" == \"$anaconda_bin\" ]; then\n",
      "        PS1=\"$(echo $PS1 | sed -e 's/(anaconda)//') \"\n",
      "        PATH=$(echo $PATH | cut -d':' -f2-)\n",
      "        export PS1 PATH\n",
      "    else\n",
      "        PS1=\"(anaconda)\"$PS1\n",
      "        PATH=${anaconda_bin}:$PATH\n",
      "        export PS1 PATH\n",
      "    fi\n",
      "}\n",
      "```\n",
      "\n",
      "```\n",
      "$ source my-functions.sh\n",
      "$ which anaconda\n",
      "$ type anaconda\n",
      "```"
     ]
    },
    {
     "cell_type": "markdown",
     "metadata": {
      "internals": {
       "slide_helper": "subslide_end",
       "slide_type": "subslide"
      },
      "slide_helper": "slide_end",
      "slideshow": {
       "slide_type": "slide"
      }
     },
     "source": [
      "## Shell scripts\n",
      "\n",
      "Example of a simple script to add date to filename:\n",
      "\n",
      "```\n",
      "#!/bin/bash\n",
      "\n",
      "if [ ! -n \"$1\" ]; then\n",
      "  echo \"Usage: $(basename $0) file\"\n",
      "  exit 0\n",
      "fi\n",
      "\n",
      "today=$(date \"+%Y%m%d\")\n",
      "\n",
      "file_path=$(dirname \"$1\")\n",
      "file_name=$(basename \"$1\")\n",
      "new_name=\"${today}_${file_name}\"\n",
      "\n",
      "/bin/mv \"$1\" $file_path/$new_name\n",
      "```\n",
      "\n",
      "make the script executable\n",
      "```\n",
      "$ chmod +x add-date.sh\n",
      "```\n",
      "\n",
      "put it in \"sane\" place (directory included in `$PATH`)\n",
      "```\n",
      "$ mkdir ~/bin\n",
      "$ mv add-date.sh ~/bin\n",
      "```"
     ]
    },
    {
     "cell_type": "markdown",
     "metadata": {
      "internals": {
       "slide_helper": "subslide_end",
       "slide_type": "subslide"
      },
      "slide_helper": "slide_end",
      "slideshow": {
       "slide_type": "slide"
      }
     },
     "source": [
      "## Customization\n",
      "\n",
      "changing executables search path:\n",
      "```\n",
      "$ echo $PATH\n",
      "/usr/local/bin:/usr/local/sbin:/usr/bin:/bin:/usr/sbin:/sbin:/usr/local/MacGPG2/bin:/usr/texbin\n",
      "\n",
      "$ PATH=${HOME}/bin:$PATH\n",
      "$ export PATH\n",
      "$ echo $PATH\n",
      "/Users/ivan/bin:/usr/local/bin:/usr/local/sbin:/usr/bin:/bin:/usr/sbin:/sbin:/usr/local/MacGPG2/bin:/usr/texbin\n",
      "```\n",
      "\n",
      "changing prompt:\n",
      "```\n",
      "$ export PS1=\">>> \"\n",
      ">>>\n",
      "\n",
      "$ export PS1=\"\\u@\\h:\\w\"\n",
      "ivan@primus:~$\n",
      "```\n",
      "\n",
      "Using \"`>>> `\" as your shell prompt is not the smartest idea...\n",
      "\n",
      "(_PS == Prompt String, 1 == primary_)"
     ]
    },
    {
     "cell_type": "markdown",
     "metadata": {
      "internals": {
       "slide_helper": "subslide_end",
       "slide_type": "subslide"
      },
      "slide_helper": "slide_end",
      "slideshow": {
       "slide_type": "slide"
      }
     },
     "source": [
      "## Exercise 3\n",
      "\n",
      "1. Check your `$PS1` and try setting it to something else. Make sure it works if you open a new shell.\n",
      "1. Create a `$HOME/bin` directory and add it to `$PATH`\n",
      "1. Try to create an executable script in `$HOME/bin`"
     ]
    },
    {
     "cell_type": "markdown",
     "metadata": {
      "internals": {
       "slide_helper": "subslide_end",
       "slide_type": "subslide"
      },
      "slide_helper": "slide_end",
      "slideshow": {
       "slide_type": "slide"
      }
     },
     "source": [
      "## ~/.bashrc\n",
      "\n",
      "```\n",
      "$ head ~/.bashrc\n",
      "\n",
      "# Load ~/.extra, ~/.bash_prompt, ~/.exports, ~/.aliases and ~/.functions\n",
      "\n",
      "for file in ~/.{bash_prompt,exports,aliases,functions,virtualenv}; do\n",
      "\t[ -r \"$file\" ] && source \"$file\"\n",
      "done\n",
      "\n",
      "unset file\n",
      "```"
     ]
    },
    {
     "cell_type": "markdown",
     "metadata": {
      "internals": {
       "slide_helper": "subslide_end",
       "slide_type": "subslide"
      },
      "slide_helper": "slide_end",
      "slideshow": {
       "slide_type": "slide"
      }
     },
     "source": [
      "## ~/.bashrc\n",
      "\n",
      "![](img/dot-files-dot-org.png)"
     ]
    },
    {
     "cell_type": "markdown",
     "metadata": {
      "internals": {
       "slide_helper": "subslide_end",
       "slide_type": "subslide"
      },
      "slide_helper": "slide_end",
      "slideshow": {
       "slide_type": "slide"
      }
     },
     "source": [
      "## Some other useful commands\n",
      "\n",
      "    find  -- recursive search inside a directory tree\n",
      "    grep  -- pattern (regular expression) search inside files or stdin\n",
      "    zip   -- compression and packaging (see also unzip)\n",
      "    tar   -- another packaging (archiving) command (for handling .tar, .tgz, .tbz files)\n",
      "    rsync -- efficient remote file synchronization\n",
      "    ssh   -- secure shell (remote logging or command execution)"
     ]
    },
    {
     "cell_type": "markdown",
     "metadata": {
      "internals": {
       "slide_helper": "subslide_end",
       "slide_type": "subslide"
      },
      "slide_helper": "slide_end",
      "slideshow": {
       "slide_type": "slide"
      }
     },
     "source": [
      "## Resources\n",
      "\n",
      "* [Command Line Crash Course](http://learnpythonthehardway.org/book/appendixa.html)\n",
      "* [The Unix Shell (SC)](http://software-carpentry.org/v5/novice/shell/index.html)\n",
      "* [Advanced Bash-Scripting Guide](http://tldp.org/LDP/abs/html/)\n",
      "* [bash one-liners](http://www.bashoneliners.com/) and/or [commandlinefu](http://www.commandlinefu.com)"
     ]
    },
    {
     "cell_type": "markdown",
     "metadata": {
      "internals": {
       "slide_helper": "subslide_end",
       "slide_type": "subslide"
      },
      "slide_helper": "slide_end",
      "slideshow": {
       "slide_type": "slide"
      }
     },
     "source": [
      "<center><h1>Part 2: docs + git</h1></center>"
     ]
    },
    {
     "cell_type": "markdown",
     "metadata": {
      "internals": {
       "slide_helper": "subslide_end",
       "slide_type": "subslide"
      },
      "slide_helper": "slide_end",
      "slideshow": {
       "slide_type": "slide"
      }
     },
     "source": [
      "* <strike>TDD</strike>\n",
      "* <strike>BDD</strike>\n",
      "* DDD\n",
      "\n",
      "![](img/ddd1.png)\n",
      "([slideshare](http://www.slideshare.net/coordt/documentation-driven-development))"
     ]
    },
    {
     "cell_type": "markdown",
     "metadata": {
      "internals": {
       "slide_helper": "subslide_end",
       "slide_type": "subslide"
      },
      "slide_helper": "slide_end",
      "slideshow": {
       "slide_type": "slide"
      }
     },
     "source": [
      "![](img/wtf-per-min.png)"
     ]
    },
    {
     "cell_type": "markdown",
     "metadata": {
      "internals": {
       "slide_helper": "subslide_end",
       "slide_type": "subslide"
      },
      "slide_helper": "slide_end",
      "slideshow": {
       "slide_type": "slide"
      }
     },
     "source": [
      "![](img/ddd2.png)"
     ]
    },
    {
     "cell_type": "markdown",
     "metadata": {
      "internals": {
       "slide_helper": "subslide_end",
       "slide_type": "subslide"
      },
      "slide_helper": "slide_end",
      "slideshow": {
       "slide_type": "slide"
      }
     },
     "source": [
      "![](img/ddd3.png)"
     ]
    },
    {
     "cell_type": "markdown",
     "metadata": {
      "internals": {
       "slide_helper": "subslide_end",
       "slide_type": "subslide"
      },
      "slide_helper": "slide_end",
      "slideshow": {
       "slide_type": "slide"
      }
     },
     "source": [
      "![](img/read-the-docs.png)\n",
      "([read-the-docs](http://read-the-docs.readthedocs.org/en/latest/))"
     ]
    },
    {
     "cell_type": "markdown",
     "metadata": {
      "internals": {
       "slide_helper": "subslide_end",
       "slide_type": "subslide"
      },
      "slide_helper": "slide_end",
      "slideshow": {
       "slide_type": "slide"
      }
     },
     "source": [
      "![](img/mkdocs-org.png)\n",
      "([mkdocs.org](http://www.mkdocs.org/))"
     ]
    },
    {
     "cell_type": "markdown",
     "metadata": {
      "internals": {
       "slide_helper": "subslide_end",
       "slide_type": "subslide"
      },
      "slide_helper": "slide_end",
      "slideshow": {
       "slide_type": "slide"
      }
     },
     "source": [
      "## Setup\n",
      "\n",
      "If you want \"clean\" setup:\n",
      "\n",
      "```\n",
      "$ mkdir -p ~/tmp/pyconsg/\n",
      "$ cd ~/tmp/pyconsg\n",
      "$ virtualenv venv\n",
      "$ source venv/bin/activate\n",
      "```\n",
      "\n",
      "```\n",
      "$ pip install mkdocs\n",
      "```\n",
      "\n",
      "(Note somewhat recent development in cli interfaces: `<command> [<subcommand>] [<arguments>]`)"
     ]
    },
    {
     "cell_type": "markdown",
     "metadata": {
      "internals": {
       "slide_helper": "subslide_end",
       "slide_type": "subslide"
      },
      "slide_helper": "slide_end",
      "slideshow": {
       "slide_type": "slide"
      }
     },
     "source": [
      "![](img/rdd.png)\n",
      "([Tom Preston-Werner](http://tom.preston-werner.com/2010/08/23/readme-driven-development.html))"
     ]
    },
    {
     "cell_type": "markdown",
     "metadata": {
      "internals": {
       "slide_helper": "subslide_end",
       "slide_type": "subslide"
      },
      "slide_helper": "slide_end",
      "slideshow": {
       "slide_type": "slide"
      }
     },
     "source": [
      "## Create a Readme\n",
      "\n",
      "```\n",
      "$ mkdir ~/tmp/pyconsg/fancy-proj\n",
      "$ cd ~/tmp/pyconsg/fancy-proj\n",
      "$ echo \"# Fancy Project\" > Readme.md\n",
      "```\n",
      "\n",
      "and turn the directory into a `git` repository\n",
      "\n",
      "```\n",
      "$ git init\n",
      "Initialized empty Git repository in /Users/ivan/tmp/pyconsg/fancy-proj/.git/\n",
      "$ git add Readme.md\n",
      "$ git commit -m 'Initial commit'\n",
      "[master (root-commit) dc8be4c] Initial commit\n",
      " 1 file changed, 1 insertion(+)\n",
      " create mode 100644 Readme.md\n",
      "```"
     ]
    },
    {
     "cell_type": "markdown",
     "metadata": {
      "internals": {
       "slide_helper": "subslide_end",
       "slide_type": "subslide"
      },
      "slide_helper": "slide_end",
      "slideshow": {
       "slide_type": "slide"
      }
     },
     "source": [
      "## Create docs directory\n",
      "\n",
      "```\n",
      "$ mkdocs new docs\n",
      "Creating project directory: docs\n",
      "Writing config file: docs/mkdocs.yml\n",
      "Writing initial docs: docs/docs/index.md\n",
      "$ cd docs\n",
      "$ ls -F\n",
      "docs/       mkdocs.yml\n",
      "\n",
      "$ mkdocs serve\n",
      "Running at: http://127.0.0.1:8000/\n",
      "Live reload enabled.\n",
      "Hold ctrl+c to quit.\n",
      "```\n",
      "\n",
      "Open a browser and go to \"localhost:8000\". You should see MkDoc's default start page."
     ]
    },
    {
     "cell_type": "markdown",
     "metadata": {
      "internals": {
       "slide_helper": "subslide_end",
       "slide_type": "subslide"
      },
      "slide_helper": "slide_end",
      "slideshow": {
       "slide_type": "slide"
      }
     },
     "source": [
      "## Customize theme and internal directory structure\n",
      "\n",
      "```\n",
      "$ mv docs pages\n",
      "\n",
      "$ cat mkdocs.yml \n",
      "site_name: Fancy Project\n",
      "theme: readthedocs\n",
      "docs_dir: pages\n",
      "site_dir: build\n",
      "pages:\n",
      "  - ['index.md', 'Main']\n",
      "  \n",
      "$ mkdocs build\n",
      "Building documentation to directory: build \n",
      "\n",
      "$ ls build/\n",
      "css        font       img        index.html js\n",
      "```"
     ]
    },
    {
     "cell_type": "markdown",
     "metadata": {
      "internals": {
       "slide_helper": "subslide_end",
       "slide_type": "subslide"
      },
      "slide_helper": "slide_end",
      "slideshow": {
       "slide_type": "slide"
      }
     },
     "source": [
      "## Commit changes\n",
      "\n",
      "```\n",
      "$ cd ..\n",
      "$ git status\n",
      "On branch master\n",
      "Untracked files:\n",
      "  (use \"git add <file>...\" to include in what will be committed)\n",
      "\n",
      "\tdocs/\n",
      "\n",
      "nothing added to commit but untracked files present (use \"git add\" to track)\n",
      "```"
     ]
    },
    {
     "cell_type": "markdown",
     "metadata": {
      "internals": {
       "slide_helper": "subslide_end",
       "slide_type": "subslide"
      },
      "slide_helper": "slide_end",
      "slideshow": {
       "slide_type": "slide"
      }
     },
     "source": [
      "## but first tell git to ignore some files\n",
      "\n",
      "```\n",
      "$ echo \"docs/build/\" > .gitignore\n",
      "\n",
      "$ git add .gitignore docs/\n",
      "$ git status\n",
      "On branch master\n",
      "Changes to be committed:\n",
      "  (use \"git reset HEAD <file>...\" to unstage)\n",
      "\n",
      "\tnew file:   .gitignore\n",
      "\tnew file:   docs/mkdocs.yml\n",
      "\tnew file:   docs/pages/index.md\n",
      "\n",
      "$ git commit -m 'Add docs'\n",
      "[master a6b5aa9] Add docs\n",
      " 3 files changed, 25 insertions(+)\n",
      " create mode 100644 .gitignore\n",
      " create mode 100644 docs/mkdocs.yml\n",
      " create mode 100644 docs/pages/index.md\n",
      "```"
     ]
    },
    {
     "cell_type": "markdown",
     "metadata": {
      "internals": {
       "slide_helper": "subslide_end",
       "slide_type": "subslide"
      },
      "slide_helper": "slide_end",
      "slideshow": {
       "slide_type": "slide"
      }
     },
     "source": [
      "## Add content (markdown)\n",
      "\n",
      "# Header1\n",
      "\n",
      "## Header 2\n",
      "\n",
      "Normal text more text\n",
      "\n",
      "*Italic*, **bold**.\n",
      "\n",
      "* list item 1\n",
      "* list item 2\n",
      "  + subitem\n",
      "  \n",
      "link to [markdown](http://daringfireball.net/projects/markdown/syntax)"
     ]
    },
    {
     "cell_type": "markdown",
     "metadata": {
      "internals": {
       "slide_helper": "subslide_end",
       "slide_type": "subslide"
      },
      "slide_helper": "slide_end",
      "slideshow": {
       "slide_type": "slide"
      }
     },
     "source": [
      "## Add content\n",
      "\n",
      "```\n",
      "$ ls pages/\n",
      "about.md index.md\n",
      "\n",
      "$ cat mkdocs.yml \n",
      "site_name: Fancy Project\n",
      "theme: readthedocs\n",
      "docs_dir: pages\n",
      "site_dir: build\n",
      "pages:\n",
      "  - ['index.md', 'Main']\n",
      "  - ['about.md', 'About']\n",
      "```"
     ]
    },
    {
     "cell_type": "markdown",
     "metadata": {
      "internals": {
       "slide_helper": "subslide_end",
       "slide_type": "subslide"
      },
      "slide_helper": "slide_end",
      "slideshow": {
       "slide_type": "slide"
      }
     },
     "source": [
      "## What you should see in your browser\n",
      "![](img/mkdocs-fancy-proj.png)"
     ]
    },
    {
     "cell_type": "markdown",
     "metadata": {},
     "source": [
      "## Use github pages to host your documentation\n",
      "\n",
      "You can use [github pages](https://pages.github.com/) to host your documentation.\n",
      "\n",
      "- Setup github account and start a new project (let's call it \"fancy-docs\").\n",
      "\n",
      "- push your code to github (replace your username):\n",
      "\n",
      "```\n",
      "$ git remote add origin git@github.com:vanzaj/fancy-docs.git\n",
      "$ git push -u origin master    \n",
      "```\n",
      "\n",
      "- Install a helper tool and push to github:\n",
      "\n",
      "```\n",
      "$ pip install ghp-import\n",
      "\n",
      "$ mkdocs build\n",
      "Building documentation to directory: build\n",
      "\n",
      "$ ghp-import -n -p build/\n",
      "Counting objects: 18, done.\n",
      "Delta compression using up to 4 threads.\n",
      "Compressing objects: 100% (12/12), done.\n",
      "Writing objects: 100% (18/18), 194.70 KiB | 0 bytes/s, done.\n",
      "Total 18 (delta 2), reused 17 (delta 1)\n",
      "To git@github.com:vanzaj/fancy-docs.git\n",
      " * [new branch]      gh-pages -> gh-pages\n",
      "```\n",
      "\n",
      "- go to `http://<your-username>.github.io/<your-project>` (ex. http://vanzaj.github.io/fancy-docs/)\n"
     ]
    },
    {
     "cell_type": "markdown",
     "metadata": {
      "internals": {
       "slide_helper": "subslide_end",
       "slide_type": "subslide"
      },
      "slide_helper": "slide_end",
      "slideshow": {
       "slide_type": "slide"
      }
     },
     "source": [
      "## Sphinx\n",
      "Sphinx is an older and very popular documentation creation tool. It works in the same way as MkDocs, except that it uses ReStructuredText (`*.rst`) instead of Markdown.\n",
      "\n",
      "![](img/sphinx-dot-org.png)"
     ]
    },
    {
     "cell_type": "markdown",
     "metadata": {
      "internals": {
       "slide_helper": "subslide_end",
       "slide_type": "subslide"
      },
      "slide_helper": "slide_end",
      "slideshow": {
       "slide_type": "slide"
      }
     },
     "source": [
      "## Makefile\n",
      "\n",
      "After you run `sphinx-quickstart`, you will see a bunch of files, including one called `Makefile`. This file is used by `make` utility, an old standard Unix build tool.\n",
      "\n",
      "```\n",
      "$ ls\n",
      "Makefile   _build     _static    _templates conf.py    index.rst  make.bat\n",
      "```\n",
      "\n",
      "```\n",
      "$ make\n",
      "Please use `make <target>' where <target> is one of\n",
      "  html       to make standalone HTML files\n",
      "  dirhtml    to make HTML files named index.html in directories\n",
      "  singlehtml to make a single large HTML file\n",
      "  qthelp     to make HTML files and a qthelp project\n",
      "  devhelp    to make HTML files and a Devhelp project\n",
      "  epub       to make an epub\n",
      "...\n",
      "```"
     ]
    },
    {
     "cell_type": "markdown",
     "metadata": {
      "internals": {
       "slide_helper": "subslide_end",
       "slide_type": "subslide"
      },
      "slide_helper": "slide_end",
      "slideshow": {
       "slide_type": "slide"
      }
     },
     "source": [
      "## Makefile\n",
      "\n",
      "```\n",
      "$ make html\n",
      "sphinx-build -b html -d _build/doctrees   . _build/html\n",
      "Running Sphinx v1.2.2\n",
      "loading pickled environment... done\n",
      "building [html]: targets for 0 source files that are out of date\n",
      "updating environment: 0 added, 0 changed, 0 removed\n",
      "looking for now-outdated files... none found\n",
      "no targets are out of date.\n",
      "\n",
      "Build finished. The HTML pages are in _build/html.\n",
      "```"
     ]
    },
    {
     "cell_type": "markdown",
     "metadata": {
      "internals": {
       "slide_helper": "subslide_end",
       "slide_type": "subslide"
      },
      "slide_helper": "slide_end",
      "slideshow": {
       "slide_type": "slide"
      }
     },
     "source": [
      "![](img/git_all_the_things.png)\n",
      "\n",
      "Treat project documentation like source code."
     ]
    },
    {
     "cell_type": "markdown",
     "metadata": {
      "internals": {
       "slide_type": "subslide"
      },
      "slideshow": {
       "slide_type": "slide"
      }
     },
     "source": [
      "## git so far\n",
      "\n",
      "```\n",
      "$ git init\n",
      "$ git add [something]\n",
      "$ git commit -m \"Useful commit message\"\n",
      "$ git status\n",
      "```"
     ]
    },
    {
     "cell_type": "code",
     "collapsed": false,
     "input": [
      "! ls -alF"
     ],
     "language": "python",
     "metadata": {
      "internals": {
       "slide_helper": "subslide_end"
      },
      "slide_helper": "slide_end",
      "slideshow": {
       "slide_type": "-"
      }
     },
     "outputs": [
      {
       "output_type": "stream",
       "stream": "stdout",
       "text": [
        "total 64\r\n",
        "drwxr-xr-x  11 ivan  staff    374 Jun 28 16:33 \u001b[34m.\u001b[m\u001b[m/\r\n",
        "drwxr-xr-x+ 53 ivan  staff   1802 Jun 28 16:21 \u001b[34m..\u001b[m\u001b[m/\r\n",
        "-rw-r--r--@  1 ivan  staff  12292 Jun 22 15:09 .DS_Store\r\n",
        "-rw-r--r--   1 ivan  staff     52 Jun 12 14:52 blah.html\r\n",
        "-rw-r--r--   1 ivan  staff    678 Jun 17 02:15 emails.csv\r\n",
        "-rw-r--r--   1 ivan  staff     12 Jun 28 16:33 hello.txt\r\n",
        "drwxr-xr-x   4 ivan  staff    136 Jun 11 17:39 \u001b[34mjunk\u001b[m\u001b[m/\r\n",
        "drwxr-xr-x   4 ivan  staff    136 Jun 18 10:45 \u001b[34mpyconsg\u001b[m\u001b[m/\r\n",
        "drwxr-xr-x   4 ivan  staff    136 Jun 18 09:51 \u001b[34mpyconsg2014-sbox\u001b[m\u001b[m/\r\n",
        "drwxr-xr-x  10 ivan  staff    340 Jun 28 13:28 \u001b[34mpydata_vid\u001b[m\u001b[m/\r\n",
        "-rw-r--r--   1 ivan  staff   1654 Jun 17 01:49 tuna-upsum.txt\r\n"
       ]
      }
     ],
     "prompt_number": 27
    },
    {
     "cell_type": "markdown",
     "metadata": {
      "internals": {
       "slide_helper": "subslide_end",
       "slide_type": "subslide"
      },
      "slide_helper": "slide_end",
      "slideshow": {
       "slide_type": "slide"
      }
     },
     "source": [
      "## Configure git\n",
      "\n",
      "```\n",
      "$ git config user.name \"Ivan\"\n",
      "$ git config user.email \"ivan@pugs.org.sg\"\n",
      "$ cat .git/config \n",
      "[core]\n",
      "\trepositoryformatversion = 0\n",
      "\tfilemode = true\n",
      "\tbare = false\n",
      "\tlogallrefupdates = true\n",
      "\tignorecase = true\n",
      "\tprecomposeunicode = true\n",
      "[user]\n",
      "\tname = Ivan\n",
      "\temail = ivan@pugs.org.sg\n",
      "```\n",
      "\n",
      "(use `git config --global` to save config in `~/.gitconfig`)"
     ]
    },
    {
     "cell_type": "markdown",
     "metadata": {
      "internals": {
       "slide_helper": "subslide_end",
       "slide_type": "subslide"
      },
      "slide_helper": "slide_end",
      "slideshow": {
       "slide_type": "slide"
      }
     },
     "source": [
      "## Branching and merging\n",
      "\n",
      "```\n",
      "$ git status\n",
      "On branch master\n",
      "\n",
      "$ git branch dev\n",
      "$ git checkout dev\n",
      "Switched to branch 'dev'\n",
      "\n",
      "# make some changes\n",
      "$ git add . && git commit -m \"Something about changes\"\n",
      "\n",
      "$ git checkout master\n",
      "$ git merge dev\n",
      "Updating 946f704..97bd862\n",
      "Fast-forward\n",
      " docs/pages/api.md | 11 +++++++++++\n",
      " 1 file changed, 11 insertions(+)\n",
      " create mode 100644 docs/pages/api.md\n",
      "\n",
      "\n",
      "```"
     ]
    },
    {
     "cell_type": "markdown",
     "metadata": {
      "internals": {
       "slide_helper": "subslide_end",
       "slide_type": "subslide"
      },
      "slide_helper": "slide_end",
      "slideshow": {
       "slide_type": "slide"
      }
     },
     "source": [
      "## More config\n",
      "\n",
      "```\n",
      "$ cat ~/.gitconfig \n",
      "[user]\n",
      "    name = Ivan\n",
      "    email = vanzaj@gmail.com\n",
      "[alias]\n",
      "    l = log --pretty=oneline -n 20 --graph\n",
      "    s = status -s\n",
      "    d = diff --patch-with-stat\n",
      "    c = clone --recursive\n",
      "    br = branch\n",
      "    ci = commit\n",
      "    co = checkout\n",
      "    logs = log --stat\n",
      "    st = status\n",
      "    hist = log --pretty=format:\\\"%h %ad | %s%d [%an]\\\" --graph --date=short\n",
      "```\n",
      "\n",
      "```\n",
      "$ git co dev\n",
      "Switched to branch 'dev'\n",
      "```"
     ]
    },
    {
     "cell_type": "markdown",
     "metadata": {
      "internals": {
       "slide_helper": "subslide_end",
       "slide_type": "subslide"
      },
      "slide_helper": "slide_end",
      "slideshow": {
       "slide_type": "slide"
      }
     },
     "source": [
      "## Git resources\n",
      "\n",
      "- [git - the simple guide](http://rogerdudler.github.io/git-guide/)\n",
      "- [Try Git](https://try.github.io)\n",
      "- [Think Like a Git](http://think-like-a-git.net/)\n",
      "- [A Hacker\u2019s Guide to Git](http://wildlyinaccurate.com/a-hackers-guide-to-git)\n",
      "- [Pro Git](http://www.git-scm.com/book)\n"
     ]
    }
   ],
   "metadata": {}
  }
 ]
}