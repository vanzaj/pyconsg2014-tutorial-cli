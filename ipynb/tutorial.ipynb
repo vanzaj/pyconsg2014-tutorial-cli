{
 "metadata": {
  "celltoolbar": "Slideshow",
  "name": "",
  "signature": "sha256:9c10bbe1b494f0cbda09168be3d73ff1f5b0e6c72ede305556c11ec8bf8aa63b"
 },
 "nbformat": 3,
 "nbformat_minor": 0,
 "worksheets": [
  {
   "cells": [
    {
     "cell_type": "markdown",
     "metadata": {
      "internals": {
       "slide_helper": "subslide_end",
       "slide_type": "subslide"
      },
      "slide_helper": "slide_end",
      "slideshow": {
       "slide_type": "slide"
      }
     },
     "source": [
      "# CLI until it CLIcks\n",
      "\n",
      "## Ivan Zimine\n",
      "## 18 June, 2014\n",
      "\n",
      "![](img/logo-pycon-RGB-2014.svg)"
     ]
    },
    {
     "cell_type": "markdown",
     "metadata": {
      "internals": {
       "slide_helper": "subslide_end",
       "slide_type": "subslide"
      },
      "slide_helper": "slide_end",
      "slideshow": {
       "slide_type": "slide"
      }
     },
     "source": [
      "## Starting a new \"fancy_pro\"\n",
      "\n",
      "Typical installation instructions from some project documentation or a tutorial:\n",
      "\n",
      "```\n",
      "$ sudo apt-get install postgresql\n",
      "$ mkvirtualenv fancy_proj\n",
      "$ pip install -r requirements.txt\n",
      "$ cd ~/dev && mkdir fancy_proj\n",
      "$ git init\n",
      "```"
     ]
    },
    {
     "cell_type": "markdown",
     "metadata": {
      "internals": {
       "slide_helper": "subslide_end",
       "slide_type": "subslide"
      },
      "slide_helper": "slide_end",
      "slideshow": {
       "slide_type": "slide"
      }
     },
     "source": [
      "## Plan\n",
      "\n",
      "1. Shut up and **shell**\n",
      "    - commands, options, arguments\n",
      "    - environment and scripting\n",
      "2. Shut up and **git**\n",
      "    - init, add, commit, push, pull, branch, merge\n",
      "3. Shut up and **mkdocs**\n",
      "    - sphinx (reStructuredText)\n",
      "    - mkdocs (markdown)"
     ]
    },
    {
     "cell_type": "markdown",
     "metadata": {
      "internals": {
       "slide_helper": "subslide_end",
       "slide_type": "subslide"
      },
      "slide_helper": "slide_end",
      "slideshow": {
       "slide_type": "slide"
      }
     },
     "source": [
      "<center><h1>Shell</h1></center>"
     ]
    },
    {
     "cell_type": "markdown",
     "metadata": {
      "internals": {
       "slide_helper": "subslide_end",
       "slide_type": "subslide"
      },
      "slide_helper": "slide_end",
      "slideshow": {
       "slide_type": "slide"
      }
     },
     "source": [
      "## Terminal, shell, console,...\n",
      "\n",
      "> A terminal is at the end of an electric wire,\n",
      "> a shell is the home of a turtle, \n",
      "> tty is a strange abbreviation, and a console is a kind of cabinet.\n",
      "\n",
      "* terminal = text input/output environment\n",
      "* console = physical terminal\n",
      "* shell = command line interpreter\n",
      "\n",
      "([source](http://unix.stackexchange.com/questions/4126/what-is-the-exact-difference-between-a-terminal-a-shell-a-tty-and-a-con/))"
     ]
    },
    {
     "cell_type": "markdown",
     "metadata": {
      "internals": {
       "slide_helper": "subslide_end",
       "slide_type": "subslide"
      },
      "slide_helper": "slide_end",
      "slideshow": {
       "slide_type": "slide"
      }
     },
     "source": [
      "## Terminal, shell, console,...\n",
      "\n",
      "![](img/terminal_whoami.png)\n",
      "\n",
      "`Terminal.app` (terminal emulator) running `bash` (shell).\n"
     ]
    },
    {
     "cell_type": "markdown",
     "metadata": {
      "internals": {
       "slide_helper": "subslide_end",
       "slide_type": "subslide"
      },
      "slide_helper": "slide_end",
      "slideshow": {
       "slide_type": "slide"
      }
     },
     "source": [
      "## Terminal, shell, console,...\n",
      "\n",
      "![](img/terminal_whoami_arrows.png)\n"
     ]
    },
    {
     "cell_type": "markdown",
     "metadata": {
      "internals": {
       "slide_helper": "subslide_end",
       "slide_type": "subslide"
      },
      "slide_helper": "slide_end",
      "slideshow": {
       "slide_type": "slide"
      }
     },
     "source": [
      "## velo-love\n",
      "\n",
      "![](img/terminal_velos.png)"
     ]
    },
    {
     "cell_type": "markdown",
     "metadata": {
      "internals": {
       "slide_type": "subslide"
      },
      "slideshow": {
       "slide_type": "slide"
      }
     },
     "source": [
      "# Files and directories"
     ]
    },
    {
     "cell_type": "code",
     "collapsed": false,
     "input": [
      "cd /Users/ivan/dev/active/pyconsg2014-tutorial-cli/ipynb/"
     ],
     "language": "python",
     "metadata": {
      "slideshow": {
       "slide_type": "skip"
      }
     },
     "outputs": [
      {
       "output_type": "stream",
       "stream": "stdout",
       "text": [
        "/Users/ivan/dev/active/pyconsg2014-tutorial-cli/ipynb\n"
       ]
      }
     ],
     "prompt_number": 1
    },
    {
     "cell_type": "markdown",
     "metadata": {},
     "source": [
      "**print working directory**"
     ]
    },
    {
     "cell_type": "code",
     "collapsed": false,
     "input": [
      "pwd"
     ],
     "language": "python",
     "metadata": {
      "internals": {},
      "slideshow": {
       "slide_type": "-"
      }
     },
     "outputs": [
      {
       "metadata": {},
       "output_type": "pyout",
       "prompt_number": 2,
       "text": [
        "u'/Users/ivan/dev/active/pyconsg2014-tutorial-cli/ipynb'"
       ]
      }
     ],
     "prompt_number": 2
    },
    {
     "cell_type": "markdown",
     "metadata": {},
     "source": [
      "**list** (current directory content)"
     ]
    },
    {
     "cell_type": "code",
     "collapsed": false,
     "input": [
      "ls"
     ],
     "language": "python",
     "metadata": {
      "internals": {
       "slide_helper": "subslide_end"
      },
      "slide_helper": "slide_end",
      "slideshow": {
       "slide_type": "-"
      }
     },
     "outputs": [
      {
       "output_type": "stream",
       "stream": "stdout",
       "text": [
        "amster1.jpg     asakusa2.jpg    guangzho1.jpg   index.html      myajima.jpg     tokyo_oam2.jpg\r\n",
        "asakusa1.jpg    cambridge1.jpg  gva1.jpg        kobe01.jpg      tokyo_oam1.jpg\r\n"
       ]
      }
     ],
     "prompt_number": 41
    },
    {
     "cell_type": "markdown",
     "metadata": {},
     "source": [
      "**change directory**"
     ]
    },
    {
     "cell_type": "code",
     "collapsed": false,
     "input": [
      "cd /Users/ivan/tmp/pyconsg2014-sbox/data/velos/"
     ],
     "language": "python",
     "metadata": {},
     "outputs": [
      {
       "output_type": "stream",
       "stream": "stdout",
       "text": [
        "/Users/ivan/tmp/pyconsg2014-sbox/data/velos\n"
       ]
      }
     ],
     "prompt_number": 26
    },
    {
     "cell_type": "code",
     "collapsed": false,
     "input": [
      "ls"
     ],
     "language": "python",
     "metadata": {},
     "outputs": [
      {
       "output_type": "stream",
       "stream": "stdout",
       "text": [
        "amster1.jpg     asakusa2.jpg    guangzho1.jpg   index.html      myajima.jpg     tokyo_oam2.jpg\r\n",
        "asakusa1.jpg    cambridge1.jpg  gva1.jpg        kobe01.jpg      tokyo_oam1.jpg\r\n"
       ]
      }
     ],
     "prompt_number": 27
    },
    {
     "cell_type": "markdown",
     "metadata": {
      "internals": {
       "slide_type": "subslide"
      },
      "slideshow": {
       "slide_type": "slide"
      }
     },
     "source": [
      "## Command options"
     ]
    },
    {
     "cell_type": "code",
     "collapsed": false,
     "input": [
      "ls -a"
     ],
     "language": "python",
     "metadata": {
      "internals": {},
      "slideshow": {
       "slide_type": "-"
      }
     },
     "outputs": [
      {
       "output_type": "stream",
       "stream": "stdout",
       "text": [
        "\u001b[34m.\u001b[m\u001b[m/              .DS_Store       asakusa1.jpg    cambridge1.jpg  gva1.jpg        kobe01.jpg      tokyo_oam1.jpg\r\n",
        "\u001b[34m..\u001b[m\u001b[m/             amster1.jpg     asakusa2.jpg    guangzho1.jpg   index.html      myajima.jpg     tokyo_oam2.jpg\r\n"
       ]
      }
     ],
     "prompt_number": 28
    },
    {
     "cell_type": "code",
     "collapsed": false,
     "input": [
      "ls -l"
     ],
     "language": "python",
     "metadata": {
      "internals": {
       "slide_helper": "subslide_end"
      },
      "slide_helper": "slide_end",
      "slideshow": {
       "slide_type": "-"
      }
     },
     "outputs": [
      {
       "output_type": "stream",
       "stream": "stdout",
       "text": [
        "total 12384\r\n",
        "-rw-r--r--  1 ivan  staff   844700 Aug 19  2007 amster1.jpg\r\n",
        "-rw-r--r--  1 ivan  staff   882404 Mar  7  2009 asakusa1.jpg\r\n",
        "-rw-r--r--  1 ivan  staff   924487 Mar  7  2009 asakusa2.jpg\r\n",
        "-rw-r--r--  1 ivan  staff   681743 Apr 15  2007 cambridge1.jpg\r\n",
        "-rw-r--r--  1 ivan  staff   717752 Apr 15  2007 guangzho1.jpg\r\n",
        "-rw-r--r--  1 ivan  staff  1060876 Apr 15  2007 gva1.jpg\r\n",
        "-rw-r--r--  1 ivan  staff      249 Jun 11 11:58 index.html\r\n",
        "-rw-r--r--  1 ivan  staff   337280 May  8  2008 kobe01.jpg\r\n",
        "-rw-r--r--  1 ivan  staff   351742 May  6  2008 myajima.jpg\r\n",
        "-rw-r--r--  1 ivan  staff   287279 Aug  2  2008 tokyo_oam1.jpg\r\n",
        "-rw-r--r--  1 ivan  staff   224311 Jul 13  2008 tokyo_oam2.jpg\r\n"
       ]
      }
     ],
     "prompt_number": 31
    },
    {
     "cell_type": "markdown",
     "metadata": {
      "internals": {
       "slide_type": "subslide"
      },
      "slideshow": {
       "slide_type": "slide"
      }
     },
     "source": [
      "## Command options"
     ]
    },
    {
     "cell_type": "code",
     "collapsed": false,
     "input": [
      "! ls -alF"
     ],
     "language": "python",
     "metadata": {
      "internals": {
       "slide_helper": "subslide_end"
      },
      "slide_helper": "slide_end",
      "slideshow": {
       "slide_type": "-"
      }
     },
     "outputs": [
      {
       "output_type": "stream",
       "stream": "stdout",
       "text": [
        "total 12400\r\n",
        "drwxr-xr-x  14 ivan  staff      476 Jun 11 11:58 \u001b[34m.\u001b[m\u001b[m/\r\n",
        "drwxr-xr-x   4 ivan  staff      136 Jun 10 20:38 \u001b[34m..\u001b[m\u001b[m/\r\n",
        "-rw-r--r--   1 ivan  staff     6148 Jun 10 19:40 .DS_Store\r\n",
        "-rw-r--r--   1 ivan  staff   844700 Aug 19  2007 amster1.jpg\r\n",
        "-rw-r--r--   1 ivan  staff   882404 Mar  7  2009 asakusa1.jpg\r\n",
        "-rw-r--r--   1 ivan  staff   924487 Mar  7  2009 asakusa2.jpg\r\n",
        "-rw-r--r--   1 ivan  staff   681743 Apr 15  2007 cambridge1.jpg\r\n",
        "-rw-r--r--   1 ivan  staff   717752 Apr 15  2007 guangzho1.jpg\r\n",
        "-rw-r--r--   1 ivan  staff  1060876 Apr 15  2007 gva1.jpg\r\n",
        "-rw-r--r--   1 ivan  staff      249 Jun 11 11:58 index.html\r\n",
        "-rw-r--r--   1 ivan  staff   337280 May  8  2008 kobe01.jpg\r\n",
        "-rw-r--r--   1 ivan  staff   351742 May  6  2008 myajima.jpg\r\n",
        "-rw-r--r--   1 ivan  staff   287279 Aug  2  2008 tokyo_oam1.jpg\r\n",
        "-rw-r--r--   1 ivan  staff   224311 Jul 13  2008 tokyo_oam2.jpg\r\n"
       ]
      }
     ],
     "prompt_number": 35
    },
    {
     "cell_type": "markdown",
     "metadata": {
      "internals": {
       "slide_type": "subslide"
      },
      "slideshow": {
       "slide_type": "slide"
      }
     },
     "source": [
      "## Command arguments"
     ]
    },
    {
     "cell_type": "code",
     "collapsed": false,
     "input": [
      "ls -l amster1.jpg"
     ],
     "language": "python",
     "metadata": {
      "internals": {},
      "slideshow": {
       "slide_type": "-"
      }
     },
     "outputs": [
      {
       "output_type": "stream",
       "stream": "stdout",
       "text": [
        "-rw-r--r--  1 ivan  staff  844700 Aug 19  2007 amster1.jpg\r\n"
       ]
      }
     ],
     "prompt_number": 43
    },
    {
     "cell_type": "code",
     "collapsed": false,
     "input": [
      "ls *.jpg"
     ],
     "language": "python",
     "metadata": {
      "internals": {
       "slide_helper": "subslide_end"
      },
      "slide_helper": "slide_end",
      "slideshow": {
       "slide_type": "-"
      }
     },
     "outputs": [
      {
       "output_type": "stream",
       "stream": "stdout",
       "text": [
        "amster1.jpg     asakusa2.jpg    guangzho1.jpg   kobe01.jpg      tokyo_oam1.jpg\r\n",
        "asakusa1.jpg    cambridge1.jpg  gva1.jpg        myajima.jpg     tokyo_oam2.jpg\r\n"
       ]
      }
     ],
     "prompt_number": 45
    },
    {
     "cell_type": "markdown",
     "metadata": {
      "internals": {
       "slide_type": "subslide"
      },
      "slideshow": {
       "slide_type": "slide"
      }
     },
     "source": [
      "## Absolute and relative path"
     ]
    },
    {
     "cell_type": "code",
     "collapsed": false,
     "input": [
      "# relative path\n",
      "! ls img/"
     ],
     "language": "python",
     "metadata": {
      "internals": {},
      "slideshow": {
       "slide_type": "-"
      }
     },
     "outputs": [
      {
       "output_type": "stream",
       "stream": "stdout",
       "text": [
        "ls: img/: No such file or directory\r\n"
       ]
      }
     ],
     "prompt_number": 11
    },
    {
     "cell_type": "code",
     "collapsed": false,
     "input": [
      "! pwd"
     ],
     "language": "python",
     "metadata": {
      "internals": {},
      "slideshow": {
       "slide_type": "-"
      }
     },
     "outputs": [
      {
       "output_type": "stream",
       "stream": "stdout",
       "text": [
        "/Users/ivan\r\n"
       ]
      }
     ],
     "prompt_number": 12
    },
    {
     "cell_type": "code",
     "collapsed": false,
     "input": [
      "# absolute path\n",
      "! ls /Users/ivan/dev/active/pyconsg2014-tutorial-cli/ipynb/img/"
     ],
     "language": "python",
     "metadata": {
      "internals": {
       "slide_helper": "subslide_end"
      },
      "slide_helper": "slide_end",
      "slideshow": {
       "slide_type": "-"
      }
     },
     "outputs": [
      {
       "output_type": "stream",
       "stream": "stdout",
       "text": [
        "logo-pycon-RGB-2014.svg    terminal_velos.png         terminal_whoami.png        terminal_whoami_arrows.png\r\n"
       ]
      }
     ],
     "prompt_number": 13
    },
    {
     "cell_type": "markdown",
     "metadata": {
      "internals": {
       "slide_type": "subslide"
      },
      "slideshow": {
       "slide_type": "slide"
      }
     },
     "source": [
      "## Absolute and relative path"
     ]
    },
    {
     "cell_type": "code",
     "collapsed": false,
     "input": [
      "# absolute path\n",
      "! ls /Users/ivan"
     ],
     "language": "python",
     "metadata": {
      "internals": {},
      "slideshow": {
       "slide_type": "-"
      }
     },
     "outputs": [
      {
       "output_type": "stream",
       "stream": "stdout",
       "text": [
        "\u001b[34mApplications\u001b[m\u001b[m \u001b[34mDesktop\u001b[m\u001b[m      \u001b[34mDownloads\u001b[m\u001b[m    \u001b[34mMovies\u001b[m\u001b[m       \u001b[34mPictures\u001b[m\u001b[m     \u001b[34mbin\u001b[m\u001b[m          \u001b[34mtmp\u001b[m\u001b[m\r\n",
        "\u001b[34mCloud\u001b[m\u001b[m        \u001b[34mDocuments\u001b[m\u001b[m    \u001b[34mLibrary\u001b[m\u001b[m      \u001b[34mMusic\u001b[m\u001b[m        \u001b[34mPublic\u001b[m\u001b[m       \u001b[34mdev\u001b[m\u001b[m\r\n"
       ]
      }
     ],
     "prompt_number": 14
    },
    {
     "cell_type": "code",
     "collapsed": false,
     "input": [
      "! ls -aF"
     ],
     "language": "python",
     "metadata": {
      "internals": {},
      "slideshow": {
       "slide_type": "-"
      }
     },
     "outputs": [
      {
       "output_type": "stream",
       "stream": "stdout",
       "text": [
        "\u001b[34m.\u001b[m\u001b[m/                   .bashrc              .functions           \u001b[34m.matplotlib\u001b[m\u001b[m/         .vimrc               \u001b[34mMusic\u001b[m\u001b[m/\r\n",
        "\u001b[34m..\u001b[m\u001b[m/                  \u001b[34m.cache\u001b[m\u001b[m/              .gitconfig           \u001b[34m.pip\u001b[m\u001b[m/                .virtualenv          \u001b[34mPictures\u001b[m\u001b[m/\r\n",
        ".CFUserTextEncoding  \u001b[34m.config\u001b[m\u001b[m/             .gitignore           \u001b[34m.pylint.d\u001b[m\u001b[m/           \u001b[34mApplications\u001b[m\u001b[m/        \u001b[34mPublic\u001b[m\u001b[m/\r\n",
        ".DS_Store            \u001b[34m.continuum\u001b[m\u001b[m/          \u001b[34m.gnupg\u001b[m\u001b[m/              \u001b[34m.spyder2\u001b[m\u001b[m/            \u001b[34mCloud\u001b[m\u001b[m/               \u001b[34mbin\u001b[m\u001b[m/\r\n",
        "\u001b[34m.Trash\u001b[m\u001b[m/              \u001b[34m.cups\u001b[m\u001b[m/               .hgrc                \u001b[34m.ssh\u001b[m\u001b[m/                \u001b[34mDesktop\u001b[m\u001b[m/             \u001b[34mdev\u001b[m\u001b[m/\r\n",
        ".aliases             \u001b[34m.distlib\u001b[m\u001b[m/            .htoprc              \u001b[34m.subversion\u001b[m\u001b[m/         \u001b[34mDocuments\u001b[m\u001b[m/           \u001b[34mtmp\u001b[m\u001b[m/\r\n",
        ".bash_history        \u001b[34m.dropbox\u001b[m\u001b[m/            \u001b[34m.ipython\u001b[m\u001b[m/            .tmux.conf           \u001b[34mDownloads\u001b[m\u001b[m/\r\n",
        ".bash_profile        \u001b[34m.dropbox-master\u001b[m\u001b[m/     \u001b[34m.keys\u001b[m\u001b[m/               \u001b[34m.vim\u001b[m\u001b[m/                \u001b[34mLibrary\u001b[m\u001b[m/\r\n",
        ".bash_prompt         .exports             .lesshst             .viminfo             \u001b[34mMovies\u001b[m\u001b[m/\r\n"
       ]
      }
     ],
     "prompt_number": 15
    },
    {
     "cell_type": "code",
     "collapsed": false,
     "input": [
      "# relative path\n",
      "! ls .."
     ],
     "language": "python",
     "metadata": {
      "internals": {
       "slide_helper": "subslide_end"
      },
      "slide_helper": "slide_end",
      "slideshow": {
       "slide_type": "-"
      }
     },
     "outputs": [
      {
       "output_type": "stream",
       "stream": "stdout",
       "text": [
        "\u001b[30m\u001b[42mShared\u001b[m\u001b[m \u001b[34mivan\u001b[m\u001b[m\r\n"
       ]
      }
     ],
     "prompt_number": 16
    },
    {
     "cell_type": "markdown",
     "metadata": {
      "internals": {
       "slide_type": "subslide"
      },
      "slideshow": {
       "slide_type": "slide"
      }
     },
     "source": [
      "## Navigation"
     ]
    },
    {
     "cell_type": "code",
     "collapsed": false,
     "input": [
      "#cd /Users/ivan/dev/active/pyconsg2014-tutorial-cli/ipynb/"
     ],
     "language": "python",
     "metadata": {
      "internals": {},
      "slideshow": {
       "slide_type": "skip"
      }
     },
     "outputs": [],
     "prompt_number": 17
    },
    {
     "cell_type": "code",
     "collapsed": false,
     "input": [
      "cd .."
     ],
     "language": "python",
     "metadata": {
      "internals": {},
      "slideshow": {
       "slide_type": "-"
      }
     },
     "outputs": [
      {
       "output_type": "stream",
       "stream": "stdout",
       "text": [
        "/Users\n"
       ]
      }
     ],
     "prompt_number": 18
    },
    {
     "cell_type": "code",
     "collapsed": false,
     "input": [
      "! ls"
     ],
     "language": "python",
     "metadata": {
      "internals": {},
      "slideshow": {
       "slide_type": "-"
      }
     },
     "outputs": [
      {
       "output_type": "stream",
       "stream": "stdout",
       "text": [
        "\u001b[30m\u001b[42mShared\u001b[m\u001b[m \u001b[34mivan\u001b[m\u001b[m\r\n"
       ]
      }
     ],
     "prompt_number": 19
    },
    {
     "cell_type": "code",
     "collapsed": false,
     "input": [
      "cd /Users/ivan"
     ],
     "language": "python",
     "metadata": {
      "internals": {},
      "slideshow": {
       "slide_type": "-"
      }
     },
     "outputs": [
      {
       "output_type": "stream",
       "stream": "stdout",
       "text": [
        "/Users/ivan\n"
       ]
      }
     ],
     "prompt_number": 20
    },
    {
     "cell_type": "code",
     "collapsed": false,
     "input": [
      "! ls"
     ],
     "language": "python",
     "metadata": {
      "internals": {
       "slide_helper": "subslide_end"
      },
      "slide_helper": "slide_end",
      "slideshow": {
       "slide_type": "-"
      }
     },
     "outputs": [
      {
       "output_type": "stream",
       "stream": "stdout",
       "text": [
        "\u001b[34mApplications\u001b[m\u001b[m \u001b[34mDesktop\u001b[m\u001b[m      \u001b[34mDownloads\u001b[m\u001b[m    \u001b[34mMovies\u001b[m\u001b[m       \u001b[34mPictures\u001b[m\u001b[m     \u001b[34mbin\u001b[m\u001b[m          \u001b[34mtmp\u001b[m\u001b[m\r\n",
        "\u001b[34mCloud\u001b[m\u001b[m        \u001b[34mDocuments\u001b[m\u001b[m    \u001b[34mLibrary\u001b[m\u001b[m      \u001b[34mMusic\u001b[m\u001b[m        \u001b[34mPublic\u001b[m\u001b[m       \u001b[34mdev\u001b[m\u001b[m\r\n"
       ]
      }
     ],
     "prompt_number": 21
    },
    {
     "cell_type": "markdown",
     "metadata": {
      "slideshow": {
       "slide_type": "slide"
      }
     },
     "source": [
      "## Creating and deleting"
     ]
    },
    {
     "cell_type": "code",
     "collapsed": false,
     "input": [
      "cd ~"
     ],
     "language": "python",
     "metadata": {},
     "outputs": [
      {
       "output_type": "stream",
       "stream": "stdout",
       "text": [
        "/Users/ivan\n"
       ]
      }
     ],
     "prompt_number": 22
    },
    {
     "cell_type": "code",
     "collapsed": false,
     "input": [
      "ls"
     ],
     "language": "python",
     "metadata": {},
     "outputs": [
      {
       "output_type": "stream",
       "stream": "stdout",
       "text": [
        "\u001b[34mApplications\u001b[m\u001b[m/ \u001b[34mDesktop\u001b[m\u001b[m/      \u001b[34mDownloads\u001b[m\u001b[m/    \u001b[34mMovies\u001b[m\u001b[m/       \u001b[34mPictures\u001b[m\u001b[m/     \u001b[34mbin\u001b[m\u001b[m/          \u001b[34mtmp\u001b[m\u001b[m/\r\n",
        "\u001b[34mCloud\u001b[m\u001b[m/        \u001b[34mDocuments\u001b[m\u001b[m/    \u001b[34mLibrary\u001b[m\u001b[m/      \u001b[34mMusic\u001b[m\u001b[m/        \u001b[34mPublic\u001b[m\u001b[m/       \u001b[34mdev\u001b[m\u001b[m/\r\n"
       ]
      }
     ],
     "prompt_number": 23
    },
    {
     "cell_type": "code",
     "collapsed": false,
     "input": [
      "pwd"
     ],
     "language": "python",
     "metadata": {},
     "outputs": [
      {
       "metadata": {},
       "output_type": "pyout",
       "prompt_number": 24,
       "text": [
        "u'/Users/ivan'"
       ]
      }
     ],
     "prompt_number": 24
    },
    {
     "cell_type": "markdown",
     "metadata": {
      "internals": {
       "slide_type": "subslide"
      },
      "slideshow": {
       "slide_type": "slide"
      }
     },
     "source": [
      "## Command options and arguments (recap)\n",
      "\n",
      "```\n",
      "$ <command> [<options>] [<arguments>]\n",
      "```\n",
      "\n",
      "`<command>` can be a binary executable, a script, a built-in shell command or an alias.\n",
      "\n",
      "Commands so far:\n",
      "\n",
      "* `pwd` -- print working directory \n",
      "* `ls [path/to/dest]`  -- list files\n",
      "* `cd [path/to/dest]`  -- change directory\n",
      "\n"
     ]
    },
    {
     "cell_type": "markdown",
     "metadata": {
      "internals": {},
      "slideshow": {
       "slide_type": "notes"
      }
     },
     "source": [
      "\n",
      "## Creating and deleting files\n",
      "## pipes and redirection\n",
      "## find, zip, tar, man\n",
      "## shell variables, env\n",
      "## .bashrc\n",
      "## scripting\n",
      "## ssh and rsync\n",
      "\n",
      "# Git\n",
      "\n",
      "# docs\n",
      "## markdown\n",
      "## Makefile"
     ]
    },
    {
     "cell_type": "code",
     "collapsed": false,
     "input": [
      "700.0/960 * 1099"
     ],
     "language": "python",
     "metadata": {
      "internals": {
       "slide_helper": "subslide_end"
      },
      "slide_helper": "slide_end",
      "slideshow": {
       "slide_type": "notes"
      }
     },
     "outputs": [
      {
       "metadata": {},
       "output_type": "pyout",
       "prompt_number": 25,
       "text": [
        "801.3541666666666"
       ]
      }
     ],
     "prompt_number": 25
    }
   ],
   "metadata": {}
  }
 ]
}