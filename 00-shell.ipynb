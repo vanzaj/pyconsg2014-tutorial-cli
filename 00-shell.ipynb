{
 "metadata": {
  "celltoolbar": "Slideshow",
  "name": "",
  "signature": "sha256:e6bd4ddc7eb6ab88ee4cb45db38cd0e3804325f168ba1a2b65e50ea0a6233d80"
 },
 "nbformat": 3,
 "nbformat_minor": 0,
 "worksheets": [
  {
   "cells": [
    {
     "cell_type": "markdown",
     "metadata": {
      "slideshow": {
       "slide_type": "slide"
      }
     },
     "source": [
      "# CLI until it CLIcks\n",
      "\n",
      "## Ivan Zimine\n",
      "## PyCon SG 2014"
     ]
    },
    {
     "cell_type": "markdown",
     "metadata": {
      "slideshow": {
       "slide_type": "slide"
      }
     },
     "source": [
      "1. Shutup and shell\n",
      "1. Shutup and git\n",
      "2. Shutup and mkdocs"
     ]
    },
    {
     "cell_type": "code",
     "collapsed": false,
     "input": [
      "!ls"
     ],
     "language": "python",
     "metadata": {
      "slideshow": {
       "slide_type": "slide"
      }
     },
     "outputs": [
      {
       "output_type": "stream",
       "stream": "stdout",
       "text": [
        "00-shell.ipynb       Makefile             \u001b[34mbuild\u001b[m\u001b[m\r\n",
        "00-shell.slides.html Readme.md            \u001b[34mreveal.js\u001b[m\u001b[m\r\n"
       ]
      }
     ],
     "prompt_number": 2
    }
   ],
   "metadata": {}
  }
 ]
}