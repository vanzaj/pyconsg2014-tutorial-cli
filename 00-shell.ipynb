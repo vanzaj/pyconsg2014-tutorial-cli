{
 "metadata": {
  "celltoolbar": "Slideshow",
  "name": "",
  "signature": "sha256:2d8ed88b15d4b29d04fbc49907e67fb18dc758c5375ccb72d111a089b188d62c"
 },
 "nbformat": 3,
 "nbformat_minor": 0,
 "worksheets": [
  {
   "cells": [
    {
     "cell_type": "markdown",
     "metadata": {
      "slideshow": {
       "slide_type": "slide"
      }
     },
     "source": [
      "# <center>CLI until it CLIcks</center>\n",
      "\n",
      "## <center>Ivan Zimine</center>\n",
      "## <center>PyCon SG 2014</center>\n"
     ]
    },
    {
     "cell_type": "markdown",
     "metadata": {},
     "source": [
      "1. Shutup and shell\n",
      "1. Shutup and git\n",
      "2. Shutup and mkdocs"
     ]
    },
    {
     "cell_type": "code",
     "collapsed": false,
     "input": [],
     "language": "python",
     "metadata": {},
     "outputs": []
    }
   ],
   "metadata": {}
  }
 ]
}